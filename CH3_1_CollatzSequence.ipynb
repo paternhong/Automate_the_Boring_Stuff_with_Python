{
 "cells": [
  {
   "cell_type": "markdown",
   "metadata": {},
   "source": [
    "## The Collatz Sequence\n",
    "\n",
    "Write a function named collatz() that has one parameter named number. If number is even, then collatz() should print number // 2 and return this value. If number is odd, then collatz() should print and return 3 * number + 1.\n",
    "\n",
    "Then write a program that lets the user type in an integer and that keeps calling collatz() on that number until the function returns the value 1. (Amazingly enough, this sequence actually works for any integer—sooner or later, using this sequence, you’ll arrive at 1! Even mathematicians aren’t sure why. Your program is exploring what’s called the Collatz sequence, sometimes called “the simplest impossible math problem.”)\n",
    "\n",
    "Remember to convert the return value from input() to an integer with the int() function; otherwise, it will be a string value.\n",
    "\n",
    "Hint: An integer number is even if number % 2 == 0, and it’s odd if number % 2 == 1.\n",
    "\n",
    "The output of this program could look something like this:\n",
    "\n",
    " Enter number:  \n",
    "3  \n",
    "10  \n",
    "5  \n",
    "16  \n",
    "8  \n",
    "4  \n",
    "2  \n",
    "1"
   ]
  },
  {
   "cell_type": "code",
   "execution_count": 1,
   "metadata": {},
   "outputs": [],
   "source": [
    "def collatz(number):  # number 必須為整數\n",
    "    in_num = number\n",
    "    if in_num % 2 == 0:\n",
    "        num = in_num // 2\n",
    "    elif in_num % 2 == 1:\n",
    "        num = in_num * 3 + 1\n",
    "    print(num)\n",
    "    return(num)    "
   ]
  },
  {
   "cell_type": "code",
   "execution_count": 2,
   "metadata": {},
   "outputs": [],
   "source": [
    "def CollatzsGuess():\n",
    "    while True:\n",
    "        try:\n",
    "            num = int(input('Please input an int: '))  # int() 限制了輸入必須為整數字串\n",
    "            if num > 0:\n",
    "                break\n",
    "            print('It\\'s not positive int')\n",
    "        except ValueError:\n",
    "            print('Input int please!')\n",
    "    output = collatz(num)\n",
    "    while output != 1:\n",
    "        output = collatz(output)"
   ]
  },
  {
   "cell_type": "code",
   "execution_count": 5,
   "metadata": {
    "scrolled": false
   },
   "outputs": [
    {
     "name": "stdout",
     "output_type": "stream",
     "text": [
      "Please input an int: 0\n",
      "It's not positive int\n",
      "Please input an int: 3\n",
      "10\n",
      "5\n",
      "16\n",
      "8\n",
      "4\n",
      "2\n",
      "1\n"
     ]
    }
   ],
   "source": [
    "CollatzsGuess()"
   ]
  }
 ],
 "metadata": {
  "kernelspec": {
   "display_name": "Python 3",
   "language": "python",
   "name": "python3"
  },
  "language_info": {
   "codemirror_mode": {
    "name": "ipython",
    "version": 3
   },
   "file_extension": ".py",
   "mimetype": "text/x-python",
   "name": "python",
   "nbconvert_exporter": "python",
   "pygments_lexer": "ipython3",
   "version": "3.7.3"
  }
 },
 "nbformat": 4,
 "nbformat_minor": 2
}
