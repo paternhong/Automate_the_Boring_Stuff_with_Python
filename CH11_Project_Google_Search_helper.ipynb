{
 "cells": [
  {
   "cell_type": "markdown",
   "metadata": {},
   "source": [
    "Whenever I search a topic on Google, I don’t look at just one search result at a time. By middle-clicking a search result link (or clicking while holding CTRL), I open the first several links in a bunch of new tabs to read later. I search Google often enough that this workflow—opening my browser, searching for a topic, and middle-clicking several links one by one—is tedious. It would be nice if I could simply type a search term on the command line and have my computer automatically open a browser with all the top search results in new tabs. Let’s write a script to do this.\n",
    "\n",
    "### This is what your program does:\n",
    "* Gets search keywords from the command line arguments.\n",
    "* Retrieves the search results page.\n",
    "* Opens a browser tab for each result.  \n",
    "\n",
    "### This means your code will need to do the following:\n",
    "* Read the command line arguments from sys.argv.\n",
    "* Fetch the search result page with the requests module.\n",
    "* Find the links to each search result.\n",
    "* Call the webbrowser.open() function to open the web browser.  \n",
    "\n",
    "Open a new file editor window and save it as lucky.py."
   ]
  },
  {
   "cell_type": "code",
   "execution_count": null,
   "metadata": {},
   "outputs": [],
   "source": [
    "#! /usr/bin/env python3"
   ]
  },
  {
   "cell_type": "code",
   "execution_count": 44,
   "metadata": {},
   "outputs": [],
   "source": [
    "import webbrowser\n",
    "from urllib.request import quote"
   ]
  },
  {
   "cell_type": "code",
   "execution_count": null,
   "metadata": {},
   "outputs": [],
   "source": [
    "while True:\n",
    "\tfind = input('Want to Google something? Input exit to end. \\n')\n",
    "\tif find == 'exit':\n",
    "\t\tbreak\n",
    "\turl_ori = 'https://www.google.com/search?q=' + find\n",
    "\t# display text while downloading the Google page\n",
    "\tprint('Googling...')\n",
    "\turl = quote(url_ori, safe=\";/?:@&=+$,\")  # ascii 看不懂或有特殊含義的(ex. \\) 的才需要轉換\n",
    "\tres = requests.get(url)\n",
    "\tres.raise_for_status()\n",
    "\t# Find the links of search results.\n",
    "\tlinks = bs4.BeautifulSoup(res.text, \"html.parser\")\n",
    "\tlinkElems = links.select('.kCrYT a')  # CSS 語法\n",
    "\n",
    "\t# Open browsers for each results.\n",
    "\tnumOpen = min(10, len(linkElems))  # Open at most 10 tabs\n",
    "\tfor i in range(numOpen):\n",
    "\t\t# The attr \"href\" in elem <a> does not include the part \"http://google.com\", so we need to add it ourselves\n",
    "\t\tprint('Search result {}: \\nhttp://google.com'.format(i + 1) + linkElems[i].get('href'))\n",
    "\t\twebbrowser.open('http://google.com' + linkElems[i].get('href'))"
   ]
  },
  {
   "cell_type": "code",
   "execution_count": null,
   "metadata": {},
   "outputs": [],
   "source": []
  },
  {
   "cell_type": "code",
   "execution_count": null,
   "metadata": {},
   "outputs": [],
   "source": []
  },
  {
   "cell_type": "code",
   "execution_count": null,
   "metadata": {},
   "outputs": [],
   "source": []
  }
 ],
 "metadata": {
  "kernelspec": {
   "display_name": "Python 3",
   "language": "python",
   "name": "python3"
  },
  "language_info": {
   "codemirror_mode": {
    "name": "ipython",
    "version": 3
   },
   "file_extension": ".py",
   "mimetype": "text/x-python",
   "name": "python",
   "nbconvert_exporter": "python",
   "pygments_lexer": "ipython3",
   "version": "3.7.3"
  }
 },
 "nbformat": 4,
 "nbformat_minor": 2
}
