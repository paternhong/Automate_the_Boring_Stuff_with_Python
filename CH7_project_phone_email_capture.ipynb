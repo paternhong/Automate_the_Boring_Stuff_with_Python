{
 "cells": [
  {
   "cell_type": "markdown",
   "metadata": {},
   "source": [
    "Say you have the boring task of finding every phone number and email address in a long web page or document. If you manually scroll through the page, you might end up searching for a long time. But if you had a program that could search the text in your clipboard for phone numbers and email addresses, you could simply press CTRL-A to select all the text, press CTRL-C to copy it to the clipboard, and then run your program. It could replace the text on the clipboard with just the phone numbers and email addresses it finds.\n",
    "\n",
    "Whenever you’re tackling a new project, it can be tempting to dive right into writing code. But more often than not, it’s best to take a step back and consider the bigger picture. I recommend first drawing up a high-level plan for what your program needs to do. Don’t think about the actual code yet—you can worry about that later. Right now, stick to broad strokes.\n",
    "\n",
    "For example, your phone and email address extractor will need to do the following:\n",
    "\n",
    "Get the text off the clipboard.\n",
    "\n",
    "Find all phone numbers and email addresses in the text.\n",
    "\n",
    "Paste them onto the clipboard.\n",
    "\n",
    "Now you can start thinking about how this might work in code. The code will need to do the following:\n",
    "\n",
    "Use the pyperclip module to copy and paste strings.\n",
    "\n",
    "Create two regexes, one for matching phone numbers and the other for matching email addresses.\n",
    "\n",
    "Find all matches, not just the first match, of both regexes.\n",
    "\n",
    "Neatly format the matched strings into a single string to paste.\n",
    "\n",
    "Display some kind of message if no matches were found in the text.\n",
    "\n",
    "This list is like a road map for the project. As you write the code, you can focus on each of these steps separately. Each step is fairly manageable and expressed in terms of things you already know how to do in Python."
   ]
  },
  {
   "cell_type": "code",
   "execution_count": 2,
   "metadata": {},
   "outputs": [],
   "source": [
    "#! /user/bin/env python3\n",
    "# phoneAndEmail.py - Finds phone numbers and email address on the clipboard.\n",
    "\n",
    "import pyperclip, re"
   ]
  },
  {
   "cell_type": "code",
   "execution_count": 3,
   "metadata": {},
   "outputs": [],
   "source": [
    "# create phone and email regex.\n",
    "\n",
    "phoneRegex = re.compile(r'''(\n",
    "\t(\\d{3}|\\(\\d{3}\\))?             # area code\n",
    "\t(\\s|-|\\.)?                     # separator\n",
    "\t(\\d{3})                        # first 3 digits\n",
    "\t(\\s|-|\\.)                      # separator\n",
    "\t(\\d{4})                        # last 4 digits\n",
    "\t(\\s*(ext|x|ext.)\\s*(\\d{2,5}))? # extension\n",
    "\t)''', re.VERBOSE)\n",
    "\n",
    "emailRegex = re.compile(r'''(\n",
    "\t[a-zA-Z0-9._%+-]+              # username\n",
    "\t@                              # @ symbol\n",
    "\t[a-zA-Z0-9.-]+                 # domain name\n",
    "\t(\\.[a-zA-Z0-9]{2,4})+          # dot-something\n",
    "\t)''', re.VERBOSE)"
   ]
  },
  {
   "cell_type": "code",
   "execution_count": 4,
   "metadata": {},
   "outputs": [],
   "source": [
    "# Find match in clipboard text.\n",
    "text = str(pyperclip.paste())\n",
    "matches = []\n",
    "\n",
    "for groups in phoneRegex.findall(text):\n",
    "\tmatches.append(groups[0])\n",
    "\n",
    "for groups in emailRegex.findall(text):\n",
    "\tmatches.append(groups[0])"
   ]
  },
  {
   "cell_type": "code",
   "execution_count": 5,
   "metadata": {},
   "outputs": [
    {
     "name": "stdout",
     "output_type": "stream",
     "text": [
      "No phones and emails found\n"
     ]
    }
   ],
   "source": [
    "# Copy result to the clipboard\n",
    "\n",
    "if len(matches) > 0:\n",
    "\tpyperclip.copy('\\n'.join(matches))\n",
    "\tprint('Copied to clipboard: ')\n",
    "\tprint('\\n'.join(matches))\n",
    "else:\n",
    "\tprint('No phones and emails found')"
   ]
  },
  {
   "cell_type": "code",
   "execution_count": null,
   "metadata": {},
   "outputs": [],
   "source": []
  },
  {
   "cell_type": "code",
   "execution_count": null,
   "metadata": {},
   "outputs": [],
   "source": []
  }
 ],
 "metadata": {
  "kernelspec": {
   "display_name": "Python 3",
   "language": "python",
   "name": "python3"
  },
  "language_info": {
   "codemirror_mode": {
    "name": "ipython",
    "version": 3
   },
   "file_extension": ".py",
   "mimetype": "text/x-python",
   "name": "python",
   "nbconvert_exporter": "python",
   "pygments_lexer": "ipython3",
   "version": "3.7.3"
  }
 },
 "nbformat": 4,
 "nbformat_minor": 2
}
