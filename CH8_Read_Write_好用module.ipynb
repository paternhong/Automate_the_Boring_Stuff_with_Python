{
 "cells": [
  {
   "cell_type": "markdown",
   "metadata": {},
   "source": [
    "## CH8_Read/Write files"
   ]
  },
  {
   "cell_type": "markdown",
   "metadata": {},
   "source": [
    "## `OS module`"
   ]
  },
  {
   "cell_type": "code",
   "execution_count": 1,
   "metadata": {},
   "outputs": [],
   "source": [
    "import os"
   ]
  },
  {
   "cell_type": "markdown",
   "metadata": {},
   "source": [
    "### `os.path.join()` - 自動把參數合併成路徑  \n",
    "```python\n",
    ">>> os.path.join('usr', 'bin', 'spam')\n",
    "```\n",
    "在Windows會自動用`\\\\`來當作join的文字，變成`usr\\\\bin\\\\spam`  \n",
    "在MacOS會自動用`/`來當作join的文字，變成`usr/bin/spam`\n",
    "\n"
   ]
  },
  {
   "cell_type": "markdown",
   "metadata": {},
   "source": [
    "### `os.getcwd()` - 取得`當前`工作目錄(current working directory) 的字串值  \n",
    "```python\n",
    ">>> os.getcwd()\n",
    "```  \n",
    "Windows - ```C:\\\\users\\\\desktop```  \n",
    "MacOS - ```usr/bin/desktop```"
   ]
  },
  {
   "cell_type": "markdown",
   "metadata": {},
   "source": [
    "### `os.chdir()` - 更改當前目錄到指定字串的目錄位置(參數可以是`絕對路徑`or`相對路徑`)  \n",
    "```python\n",
    ">>> os.chdir('/users/ppp/desktop')\n",
    "```\n",
    "移動到`/users/ppp/desktop`資料夾"
   ]
  },
  {
   "cell_type": "markdown",
   "metadata": {},
   "source": [
    "### `os.makedirs()` - 依照輸入字串建立資料夾(參數可以是絕對路徑or相對路徑)\n",
    "```python\n",
    ">>> os.makedirs('/Users/paternhong/Desktop/hello/how/are/you')\n",
    "```\n",
    "在`/Users/paternhong/Desktop/hello/how/are/`建立`you`資料夾。  \n",
    "1. 途中若是有未建立的資料夾，會自動建立。\n",
    "2. 無法重複創建資料夾(同名稱)。"
   ]
  },
  {
   "cell_type": "markdown",
   "metadata": {},
   "source": [
    "### `os.path.abs(path)` - 回傳引數的絕對路徑字串\n",
    "### `os.path.isabs(path)` - 引數為`絕對路徑`則回傳`True`，`相對路徑`則回傳`False`\n",
    "### `os.path.relpath(path, start)` - 回傳start到path的`相對路徑`的字串。若是沒有輸入start，則從`當前工作目錄`開始\n",
    "```python\n",
    ">>> os.path.abspath('.')  # 當前目錄\n",
    "/Users/paternhong/Desktop\n",
    "\n",
    ">>> os.path.abspath('./Scripts')  # 當前目錄的Script資料夾內\n",
    "/Users/paternhong/Desktop/Scripts\n",
    "\n",
    ">>> os.path.isabs('.')\n",
    "False\n",
    "\n",
    ">>> os.path.isabs(os.path.abspath('.'))\n",
    "True\n",
    "\n",
    ">>> os.path.relpath('/Users/paternhong', '/Users') \n",
    "'paternhong'\n",
    "\n",
    ">>> os.path.relpath('/Users/paternhong', '/Users/paternhong/Desktop/Github') \n",
    "'../..'\n",
    "\n",
    ">>> os.path.relpath('/Users/Library','/Users/paternhong/Movies') \n",
    "'../../Library'\n",
    "\n",
    "```"
   ]
  },
  {
   "cell_type": "markdown",
   "metadata": {},
   "source": [
    "### `os.path.dirname(path)` - 回傳path引數最後一個斜線`之前`的所有路徑內容\n",
    "### `os.path.basename(path)` - 回傳path引數最後一個斜線`之後`的所有內容\n",
    "### `os.path.split(path)` - 以tuple方式同時回傳path引數最後一個斜線`之前`及`之後`的所有內容\n",
    "### 利用`os.path.sep`當作引數來分割路徑字串，即使在不同os也能夠正確的分割並存成List回傳\n",
    "```python\n",
    ">>> os.path.dirname('/Users/paternhong/Desktop/Github.exe')\n",
    "'/Users/paternhong/Desktop'\n",
    "\n",
    ">>> os.path.basename('/Users/paternhong/Desktop/Github.exe')\n",
    "'Github.exe'\n",
    "\n",
    ">>> os.path.split('/Users/paternhong/Desktop/Github.exe')\n",
    "('/Users/paternhong/Desktop', 'Github.exe')\n",
    "\n",
    ">>> '/Users/paternhong/Desktop/Github.exe'.split(os.path.sep)\n",
    "['', 'Users', 'paternhong', 'Desktop', 'Github.exe']\n",
    "\n",
    "in windows\n",
    ">>> 'C:\\\\Users\\\\paternhong\\\\Desktop\\\\200MB'.split(os.path.sep)\n",
    "['C:', 'Users', 'paternhong', 'Desktop', '200MB']\n",
    "```"
   ]
  },
  {
   "cell_type": "markdown",
   "metadata": {},
   "source": [
    "### `os.path.getsize(path)` - 取得引數的`檔案/資料夾`位元數大小\n",
    "### `os.listdir(path)` - 以串列方式回傳引數`資料夾`所有檔案名稱\n",
    "```python\n",
    ">>> os.path.getsize('/Users/paternhong/Desktop')  # 最後為資料夾，則回傳當下資料夾所有檔案的大小\n",
    "608\n",
    "\n",
    ">>> os.path.getsize('/Users/paternhong/Desktop/try.txt')  # 最後為檔案，則回傳當該檔案的大小\n",
    "296\n",
    "\n",
    ">>> os.listdir('/Users/paternhong/Desktop')\n",
    "['小提示.txt', 'mycats.py', '隨意用.txt', 'prime.py', 'CH6_pw.py', '.DS_Store', 'Python_test', '.localized', '出門備品.pdf', 'BBY', 'ML100', 'try.txt', 'reverse_tri.py', 'hello.ipynb', 'Github', '.ipynb_checkpoints', 'ＡＮＡ刷卡.txt']\n",
    "\n",
    "```\n",
    "利用for迴圈搭配`os.path.getsize(path)`及`os.listdir(path)`可以取得資料夾內`所有檔案`及其`子資料夾內檔案`的位元數大小"
   ]
  },
  {
   "cell_type": "markdown",
   "metadata": {},
   "source": [
    "### `os.path.exists(path)` - 檢查引數給的`檔案/路徑`是否存在。存在: 回傳True, 不存在: 回傳False\n",
    "### `os.path.isfile(path)` - 引數路徑`存在且為檔案`: 回傳True，`不存在或不是檔案`: 回傳False\n",
    "### `os.path.isdir(path)` - 引數路徑`存在且為資料夾`: 回傳True，`不存在或不是資料夾`: 回傳False\n",
    "```python\n",
    ">>> os.path.exists('/Users/paternhong/Desktop')  # 存在的資料夾\n",
    "True\n",
    "\n",
    ">>> os.path.exists('/Users/paternhong/Desktop/try.txt')  # 存在的檔案\n",
    "True\n",
    "\n",
    ">>> os.path.exists('/Users/paternhong/Desktop/desk')  # 不存在的資料夾\n",
    "False\n",
    "\n",
    ">>> os.path.exists('/Users/paternhong/Desktop/trytryy.txt')  # 不存在的檔案\n",
    "False\n",
    "\n",
    ">>> os.path.isdir('/Users/paternhong/Desktop')\n",
    "True\n",
    "\n",
    ">>> os.path.isdir('/Users/paternhong/Desktop/try.txt')\n",
    "False\n",
    "\n",
    ">>> os.path.isfile('/Users/paternhong/Desktop')\n",
    "False\n",
    "\n",
    ">>> os.path.isfile('/Users/paternhong/Desktop/try.txt')\n",
    "True\n",
    "\n",
    "```"
   ]
  },
  {
   "cell_type": "markdown",
   "metadata": {},
   "source": [
    "### `open(path)` - 開啟路徑引數的檔案，並回傳一個`File_obj`，第二個引數預設為'r'(只能讀取)\n",
    "### `File_obj.close()` - File_obj物件最後都要使用close function關閉檔案\n",
    "### `File_obj.read()` - 把File_obj內容當成一個大型`字串`，並回傳此字串\n",
    "```python\n",
    ">>> file_1 = open('/Users/paternhong/Desktop/try.txt')\n",
    ">>> file_1.read()\n",
    "\"415 863-9900\\n\\nacademic@nostarch.com.jp\\nhelp@nostarch.com.tw\\n\\n'/Users/paternhong/Movies'\\n\\n/Users/paternhong/Desktop/reverse_tri.py\\n\"\n",
    ">>> file_1.close()\n",
    "```\n",
    "### `File_obj.readlines()` - 把File_obj內容當成一個大型`字串`，並以List方式回傳此字串的`每一行`\n",
    "```python\n",
    ">>> file_1 = open('/Users/paternhong/Desktop/try.txt')\n",
    ">>> file_1.readlines()\n",
    "['415 863-9900\\n', '\\n', 'academic@nostarch.com.jp\\n', 'help@nostarch.com.tw\\n', '\\n', \"'/Users/paternhong/Movies'\\n\", '\\n', '/Users/paternhong/Desktop/reverse_tri.py\\n']\n",
    "```"
   ]
  },
  {
   "cell_type": "markdown",
   "metadata": {},
   "source": [
    "### `open(path, mode)` - 以第二個引數(mode='r', 'w', ...)模式, 開啟path引數檔案，並回傳一個`File_obj`\n",
    "Character Meaning  \n",
    "'r' - open for reading (default)  \n",
    "'w' - open for writing, truncating the file first >>> 以此作為第二個引數開啟檔案才能夠寫入，且會`從頭`開始覆蓋原有檔案  \n",
    "'x' - open for exclusive creation, failing if the file already exists  \n",
    "'a' - open for writing, appending to the end of the file if it exists >>> 以此作為第二個引數開啟檔案才能夠寫入，且會`檔案尾端`開始新增文字  \n",
    "'b' - binary mode  \n",
    "'t' - text mode (default)  \n",
    "'+' - open a disk file for updating (reading and writing)  \n",
    "<font color=red>不管使用`'w'` 或 `'a'`模式, 若open()的file`不存在`，都會創建一個`新的空檔案`</font>  \n",
    "### `File_obj.write(string_to_write)` - 把`string_to_write`字串寫入`File_obj`，並回傳此字串長度\n",
    "```python\n",
    "# 先用'w' mode 打開\n",
    ">>> file_1 = open('/Users/paternhong/Desktop/Test.txt', 'w')  # 此時此位置並沒有Test.txt, 因此新增一個叫做Test.txt的空檔案\n",
    ">>> file_1.write('This is a test!\\n')\n",
    "16\n",
    ">>> file_1.close()\n",
    "\n",
    "# 再用'a' mode 打開\n",
    ">>> file_1 = open('/Users/paternhong/Desktop/Test.txt', 'a')  # 此時此位置已經存在Test.txt, 因此直接用'a' mode開啟Test.txt\n",
    ">>> file_1.write('This is the second line')\n",
    "23\n",
    ">>> file_1.close()\n",
    "\n",
    "# 檢查寫入結果\n",
    ">>> file_1 = open('/Users/paternhong/Desktop/Test.txt')  # 用預設'r' mode開啟剛剛寫的檔案\n",
    ">>> content = file_1.read()  # 讀取內容\n",
    ">>> file_1.close()  # 關閉file_obj\n",
    ">>> print(content)\n",
    "This is a test!\n",
    "This is the second line\n",
    "```\n",
    "\n",
    "\n"
   ]
  },
  {
   "cell_type": "markdown",
   "metadata": {},
   "source": [
    "## `Shelve module` - 可將python程式中的變數儲存到`二進位`的shelf file內(可用來儲存參數, 組態設定...等)並存在硬碟，之後有需要再讀取到python程式中使用"
   ]
  },
  {
   "cell_type": "code",
   "execution_count": 2,
   "metadata": {},
   "outputs": [],
   "source": [
    "import shelve"
   ]
  },
  {
   "cell_type": "markdown",
   "metadata": {},
   "source": [
    "```python\n",
    ">>> cats = ['Zophie', 'Pooka', 'Simon']  # 創建一組以後可能會用到的資料\n",
    "'''\n",
    "引數:\n",
    "1. 含絕對路徑及檔案名稱: '/Users/paternhong/Desktop/mydata' >>> 在'/Users/paternhong/Desktop' 目錄'開啟/創建(不存在的話)' \n",
    "2. 只有檔案名稱(即使用相對路徑): 'mydata' >>> 在'當前'目錄‘開啟/創建(不存在的話)'\n",
    "一個檔名為mydata.db(附檔名為db)的二進位檔案\n",
    "shelve的open()不需要設定'讀取'或'寫入'模式，只要開啟即為可讀寫\n",
    "'''\n",
    ">>> shelfFile = shelve.open('mydata')\n",
    ">>> shelfFile['cats'] = cats  # 此二進位檔案為使用類似字典的方式來儲存資訊\n",
    ">>> shelfFile.close()  # 使用完一樣要close\n",
    "\n",
    "# 讀取我們剛剛寫入的檔案\n",
    ">>> file_1 = shelve.open('mydata')\n",
    ">>> type(file_1)\n",
    "<class 'shelve.DbfilenameShelf'>\n",
    ">>> file_1['cats']  # 因為是使用類似字典方式紀錄，若是輸入key值並不存在裡面，就無法讀到東西\n",
    "['Zophie', 'Pooka', 'Simon']\n",
    "\n",
    "# 如同字典，shelf值有key(), value()方法可以使用，回傳的值雖然不是真的List(但可迭代)，因此我們可以使用list()方法取得串列格式的值，方便程式使用。\n",
    ">>> file_1.keys()\n",
    "KeysView(<shelve.DbfilenameShelf object at 0x105a7de80>)\n",
    ">>> file_1.values()\n",
    "ValuesView(<shelve.DbfilenameShelf object at 0x105a7de80>)\n",
    ">>> list(file_1.keys())\n",
    "['cats']\n",
    ">>> list(file_1.values())\n",
    "[['Zophie', 'Pooka', 'Simon']]\n",
    "\n",
    ">>> file_1.close()\n",
    "\n",
    "```"
   ]
  },
  {
   "cell_type": "markdown",
   "metadata": {},
   "source": [
    "## `pprint module`"
   ]
  },
  {
   "cell_type": "code",
   "execution_count": 3,
   "metadata": {},
   "outputs": [],
   "source": [
    "import pprint"
   ]
  },
  {
   "cell_type": "markdown",
   "metadata": {},
   "source": [
    "### `pprint.pformat()` - 此函式可以用來把<font color=red>變數內容整個</font>以字串形式回傳，以便寫入 `.py file` ，當以後有需要取用儲存在其中的變數時，只要 import 此 .py file 就能夠使用了"
   ]
  },
  {
   "cell_type": "markdown",
   "metadata": {},
   "source": [
    "```python\n",
    ">>> cats = [{'name': 'Zophie', 'desc': 'chubby'}, {'name': 'Pooka', 'desc': 'fluffy'}]  # 建立變數cats變數以及參數內容\n",
    ">>> pprint.pformat(cats)  # 把參數內容轉換成字串形式\n",
    "\"[{'desc': 'chubby', 'name': 'Zophie'}, {'desc': 'fluffy', 'name': 'Pooka'}]\"\n",
    ">>> file_1 = open('myCats.py', 'w')  # ‘開啟/創建(不存在的話)'myCats.py file\n",
    ">>> file_1.write('cats = ' + pprint.pformat(cats) + '\\n')  # 把'變數->字串'&'參數內容->字串'兩者組合成完整的(和原本相同)字串，寫入myCats.py\n",
    "83\n",
    ">>> file_1.close()\n",
    "```\n",
    "直接開啟`maycats.py`查看內容可發現字串`內容`被寫入myCats.py中:  \n",
    "`cats = [{'desc': 'chubby', 'name': 'Zophie'}, {'desc': 'fluffy', 'name': 'Pooka'}]`\n",
    "```python\n",
    "# 從myCats.py讀取內容，並讓程式使用儲存myCats.py的內容\n",
    ">>> import myCats\n",
    ">>> myCats.cats  # 變數cats為其屬性(A、B兩個程式，cat為B的'變數'，當A import B之後，從A裡面看來，cat即為B的一個屬性)\n",
    "[{'desc': 'chubby', 'name': 'Zophie'}, {'desc': 'fluffy', 'name': 'Pooka'}]\n",
    ">>> myCats.cats[0]\n",
    "{'desc': 'chubby', 'name': 'Zophie'}\n",
    ">>> myCats.cats[0]['name']\n",
    "'Zophie'\n",
    "```"
   ]
  },
  {
   "cell_type": "markdown",
   "metadata": {},
   "source": [
    "## `shelve module` & `pprint.pformat`(純文字檔)的比較\n",
    "\n",
    "<font color=red size=5>優點:</font>\n",
    "1. <font color=blue>Python腳本程式碼本身僅是加上.py副檔名的純文字檔案</font>\n",
    "2. <font color=blue>儲存成純文字檔案的好處是可以很輕易的就開啟並查看檔案內容</font>\n",
    "\n",
    "<font color=red size=5>缺點:</font>\n",
    "1. <font color=blue>只有基本資料型態(整數、浮點數、字串和字典等)可以做為簡單文字寫入檔案內，但是如File物件就無法編碼成文字。</font>"
   ]
  }
 ],
 "metadata": {
  "kernelspec": {
   "display_name": "Python 3",
   "language": "python",
   "name": "python3"
  },
  "language_info": {
   "codemirror_mode": {
    "name": "ipython",
    "version": 3
   },
   "file_extension": ".py",
   "mimetype": "text/x-python",
   "name": "python",
   "nbconvert_exporter": "python",
   "pygments_lexer": "ipython3",
   "version": "3.7.3"
  }
 },
 "nbformat": 4,
 "nbformat_minor": 2
}
