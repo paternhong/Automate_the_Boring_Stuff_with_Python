{
 "cells": [
  {
   "cell_type": "markdown",
   "metadata": {},
   "source": [
    "Write a program that walks through a folder tree and searches for files with a certain file extension (such as .pdf or .jpg). Copy these files from whatever location they are in to a new folder.\n"
   ]
  },
  {
   "cell_type": "code",
   "execution_count": 1,
   "metadata": {},
   "outputs": [],
   "source": [
    "import os, shutil"
   ]
  },
  {
   "cell_type": "code",
   "execution_count": 11,
   "metadata": {
    "scrolled": true
   },
   "outputs": [
    {
     "name": "stdout",
     "output_type": "stream",
     "text": [
      "Please input the path of searching folder: /Users/paternhong/Desktop/ML100/1_Automate_the_Boring_Stuff_with_Python/CH9_Project_Selective_Copy\n",
      "Please input the file_type to copy(ex. .txt, .jpg ...): .py\n"
     ]
    }
   ],
   "source": [
    "def copyFile(folder, fileType):\n",
    "    os.chdir(folder)\n",
    "    if not os.path.exists(os.path.join(folder, 'copy_files')):\n",
    "        os.makedirs(os.path.join(folder, 'copy_files'))\n",
    "    \n",
    "    # 用相對路徑的方式, foldername 會從 ./ 開始, ex. ./copy_files.\n",
    "    for foldername, subfolders, filenames in os.walk('.'):\n",
    "        for file in filenames:\n",
    "            if foldername == os.path.join('.', 'copy_files'):\n",
    "                continue\n",
    "            if file.endswith(fileType):\n",
    "                shutil.copy(os.path.join(foldername, file), os.path.join(folder, 'copy_files'))\n",
    "        \n",
    "        \n",
    "folder = input('Please input the path of searching folder: ')\n",
    "fileType = input('Please input the file_type to copy(ex. .txt, .jpg ...): ')\n",
    "copyFile(folder, fileType)\n"
   ]
  },
  {
   "cell_type": "code",
   "execution_count": null,
   "metadata": {},
   "outputs": [],
   "source": []
  }
 ],
 "metadata": {
  "kernelspec": {
   "display_name": "Python 3",
   "language": "python",
   "name": "python3"
  },
  "language_info": {
   "codemirror_mode": {
    "name": "ipython",
    "version": 3
   },
   "file_extension": ".py",
   "mimetype": "text/x-python",
   "name": "python",
   "nbconvert_exporter": "python",
   "pygments_lexer": "ipython3",
   "version": "3.7.3"
  }
 },
 "nbformat": 4,
 "nbformat_minor": 2
}
