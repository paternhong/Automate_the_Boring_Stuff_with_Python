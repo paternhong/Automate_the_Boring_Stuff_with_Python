{
 "cells": [
  {
   "cell_type": "markdown",
   "metadata": {},
   "source": [
    "Write a function that uses regular expressions to make sure the password string it is passed is strong. A strong password is defined as one that is at least eight characters long, contains both uppercase and lowercase characters, and has at least one digit. You may need to test the string against multiple regex patterns to validate its strength."
   ]
  },
  {
   "cell_type": "code",
   "execution_count": 1,
   "metadata": {},
   "outputs": [],
   "source": [
    "import re\n"
   ]
  },
  {
   "cell_type": "code",
   "execution_count": 2,
   "metadata": {},
   "outputs": [],
   "source": [
    "upper = re.compile(r'[A-Z]+')\n",
    "lower = re.compile(r'[a-z]+')\n",
    "num = re.compile(r'[0-9]+')"
   ]
  },
  {
   "cell_type": "code",
   "execution_count": 4,
   "metadata": {},
   "outputs": [
    {
     "name": "stdout",
     "output_type": "stream",
     "text": [
      "Please input password: adK1..........\n",
      "Your password is  adK1..........\n"
     ]
    }
   ],
   "source": [
    "while True:\n",
    "    _in = input(\"Please input password: \")\n",
    "    if len(_in) < 8:\n",
    "        print('The pwd must more then 8 characters.')\n",
    "        pass\n",
    "    elif not upper.search(_in):\n",
    "        print('The pws must include at least 1 upper case.')\n",
    "        pass\n",
    "    elif not lower.search(_in):\n",
    "        print('The pws must include at least 1 lower case.')\n",
    "        pass\n",
    "    elif not num.search(_in):\n",
    "        print('The pws must include 1 number.')\n",
    "        pass\n",
    "    print('Your password is ', _in)\n",
    "    break"
   ]
  },
  {
   "cell_type": "code",
   "execution_count": null,
   "metadata": {},
   "outputs": [],
   "source": []
  },
  {
   "cell_type": "code",
   "execution_count": null,
   "metadata": {},
   "outputs": [],
   "source": []
  }
 ],
 "metadata": {
  "kernelspec": {
   "display_name": "Python 3",
   "language": "python",
   "name": "python3"
  },
  "language_info": {
   "codemirror_mode": {
    "name": "ipython",
    "version": 3
   },
   "file_extension": ".py",
   "mimetype": "text/x-python",
   "name": "python",
   "nbconvert_exporter": "python",
   "pygments_lexer": "ipython3",
   "version": "3.7.3"
  }
 },
 "nbformat": 4,
 "nbformat_minor": 2
}
