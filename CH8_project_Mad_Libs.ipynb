{
 "cells": [
  {
   "cell_type": "markdown",
   "metadata": {},
   "source": [
    "Create a Mad Libs program that reads in text files and lets the user add their own text anywhere the word ADJECTIVE, NOUN, ADVERB, or VERB appears in the text file. For example, a text file may look like this:\n",
    "\n",
    " The ADJECTIVE panda walked to the NOUN and then VERB. A nearby NOUN was\n",
    "unaffected by these events.\n",
    "The program would find these occurrences and prompt the user to replace them.\n",
    "\n",
    "```\n",
    "Enter an adjective:\n",
    "silly\n",
    "Enter a noun:\n",
    "chandelier\n",
    "Enter a verb:\n",
    "screamed\n",
    "Enter a noun:\n",
    "pickup truck\n",
    "The following text file would then be created:\n",
    "```\n",
    "\n",
    " The silly panda walked to the chandelier and then screamed. A nearby pickup\n",
    "truck was unaffected by these events.\n",
    "The results should be printed to the screen and saved to a new text file."
   ]
  },
  {
   "cell_type": "code",
   "execution_count": 8,
   "metadata": {},
   "outputs": [],
   "source": [
    "import os"
   ]
  },
  {
   "cell_type": "code",
   "execution_count": 27,
   "metadata": {
    "scrolled": true
   },
   "outputs": [
    {
     "name": "stdout",
     "output_type": "stream",
     "text": [
      "Enter an adjective:\n",
      "1\n",
      "Enter a noun:\n",
      "2\n",
      "Enter a verb:\n",
      "3\n",
      "Enter a adverb:\n",
      "4\n",
      "Enter an adjective:\n",
      "5\n",
      "Enter a noun:\n",
      "a\n",
      "Enter a verb:\n",
      "b\n",
      "Enter a adverb:\n",
      "c\n",
      "Enter an adjective:\n",
      "d\n",
      "Enter a noun:\n",
      "e\n",
      "Enter a verb:\n",
      "f\n",
      "Enter a adverb:\n",
      "g\n",
      "Enter a verb:\n",
      "h\n",
      "The 1 panda walked to the 2 and then 3. A nearby 4 was\n",
      "unaffected by these events.\n",
      "5.\n",
      "a,\n",
      "b;\n",
      "c:\n",
      ".d\n",
      ",e\n",
      ";f\n",
      ":g \n",
      "h!\n"
     ]
    }
   ],
   "source": [
    "if not os.path.exists(os.path.join('CH8_Project_Mad_Libs_TXT_files', 'fixed')):\n",
    "    os.makedirs(os.path.join('CH8_Project_Mad_Libs_TXT_files', 'fixed'))\n",
    "files = os.listdir('CH8_Project_Mad_Libs_TXT_files')\n",
    "for _f in files:\n",
    "    if _f == 'fixed':\n",
    "        pass\n",
    "    else:\n",
    "        '''\n",
    "        open檔案遇到\n",
    "        UnicodeDecodeError: 'utf-8' codec can't decode byte 0x80 in position 3131: invalid start byte\n",
    "        的解決辦法，參照  https://blog.csdn.net/qq_34149581/article/details/83418047\n",
    "        1. 使用command: ls -a 可以查看到.DS_Store文件\n",
    "        2. rm .DS_Store\n",
    "        '''\n",
    "        original = open(os.path.join('CH8_Project_Mad_Libs_TXT_files', _f))\n",
    "        content = original.readlines()\n",
    "        original.close()\n",
    "        \n",
    "        new_name = '_new.'.join(_f.split('.'))\n",
    "        new_file = open(os.path.join('CH8_Project_Mad_Libs_TXT_files', 'fixed', new_name), 'w')\n",
    "        \n",
    "        # 每行切成以單字為主的最小單位\n",
    "        new_list = []\n",
    "        for line in content:\n",
    "            _list = line.split(' ')\n",
    "            for i in range(len(_list)):\n",
    "                # 需考慮到目標字串左右可能會有符號(,.:;等等)\n",
    "                if 'ADJECTIVE' in _list[i]:\n",
    "                    new = input('Enter an adjective:\\n')\n",
    "                    _list[i] = _list[i].replace('ADJECTIVE', new)\n",
    "                elif 'NOUN' in _list[i]:\n",
    "                    new = input('Enter a noun:\\n')\n",
    "                    _list[i] = _list[i].replace('NOUN', new)\n",
    "                elif 'ADVERB' in _list[i]:\n",
    "                    new = input('Enter a adverb:\\n')\n",
    "                    _list[i] = _list[i].replace('ADVERB', new)\n",
    "                elif 'VERB' in _list[i]:\n",
    "                    new = input('Enter a verb:\\n')\n",
    "                    _list[i] = _list[i].replace('VERB', new)\n",
    "            new_line = ' '.join(_list)\n",
    "            new_list.append(new_line)\n",
    "        new_content = ''.join(new_list)\n",
    "        print(new_content)\n",
    "        new_file.write(new_content)\n",
    "        new_file.close()\n",
    "        \n"
   ]
  },
  {
   "cell_type": "code",
   "execution_count": null,
   "metadata": {},
   "outputs": [],
   "source": []
  },
  {
   "cell_type": "code",
   "execution_count": null,
   "metadata": {},
   "outputs": [],
   "source": []
  }
 ],
 "metadata": {
  "kernelspec": {
   "display_name": "Python 3",
   "language": "python",
   "name": "python3"
  },
  "language_info": {
   "codemirror_mode": {
    "name": "ipython",
    "version": 3
   },
   "file_extension": ".py",
   "mimetype": "text/x-python",
   "name": "python",
   "nbconvert_exporter": "python",
   "pygments_lexer": "ipython3",
   "version": "3.7.3"
  }
 },
 "nbformat": 4,
 "nbformat_minor": 2
}
