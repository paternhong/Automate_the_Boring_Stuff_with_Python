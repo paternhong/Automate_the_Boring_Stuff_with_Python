{
 "cells": [
  {
   "cell_type": "markdown",
   "metadata": {},
   "source": [
    "# 1. Log_into_hotmail"
   ]
  },
  {
   "cell_type": "markdown",
   "metadata": {},
   "source": [
    "```python\n",
    "driver.back()\n",
    "driver.forward()\n",
    "driver.refresh()\n",
    "driver.quit()  #把 browser 整個關掉\n",
    "driver.close()  #關閉當前分頁\n",
    "driver.window_handles  #以 list 方式展現所有的分頁\n",
    "driver.switch_to_window(handles[-1])  # 視窗切換，切換為新開啟的視窗\n",
    "driver.switch_to_window(handles[0])  # 切換回最初開啟的視窗\n",
    "```"
   ]
  },
  {
   "cell_type": "code",
   "execution_count": 1,
   "metadata": {},
   "outputs": [],
   "source": [
    "import selenium, time\n",
    "from selenium import webdriver"
   ]
  },
  {
   "cell_type": "code",
   "execution_count": 2,
   "metadata": {},
   "outputs": [
    {
     "data": {
      "text/plain": [
       "selenium.webdriver.firefox.webdriver.WebDriver"
      ]
     },
     "execution_count": 2,
     "metadata": {},
     "output_type": "execute_result"
    }
   ],
   "source": [
    "browser = webdriver.Firefox()\n",
    "type(browser)"
   ]
  },
  {
   "cell_type": "code",
   "execution_count": 3,
   "metadata": {},
   "outputs": [],
   "source": [
    "browser.get('https://www.msn.com/zh-tw')\n",
    "time.sleep(3)"
   ]
  },
  {
   "cell_type": "code",
   "execution_count": 4,
   "metadata": {},
   "outputs": [
    {
     "name": "stdout",
     "output_type": "stream",
     "text": [
      "get\n"
     ]
    }
   ],
   "source": [
    "try:\n",
    "    outlook_link = browser.find_elements_by_tag_name('a[href=\"https://outlook.com/\"]')\n",
    "    print('get')\n",
    "except:\n",
    "    print('fail to get.')"
   ]
  },
  {
   "cell_type": "code",
   "execution_count": 5,
   "metadata": {
    "scrolled": true
   },
   "outputs": [
    {
     "name": "stdout",
     "output_type": "stream",
     "text": [
      "[<selenium.webdriver.firefox.webelement.FirefoxWebElement (session=\"73995b61-4cb3-b845-a8d3-69481e147628\", element=\"f4b66800-f575-af44-8668-a81b7aa4abd8\")>]\n"
     ]
    }
   ],
   "source": [
    "print(outlook_link)\n",
    "outlook_link[0].click()\n",
    "time.sleep(5)"
   ]
  },
  {
   "cell_type": "code",
   "execution_count": 6,
   "metadata": {},
   "outputs": [
    {
     "name": "stderr",
     "output_type": "stream",
     "text": [
      "/Users/paternhong/anaconda3/lib/python3.7/site-packages/ipykernel_launcher.py:6: DeprecationWarning: use driver.switch_to.window instead\n",
      "  \n"
     ]
    }
   ],
   "source": [
    "'''\n",
    "click之後，firefox會產生新分頁，但是browser的畫面還是停留在原本的畫面，要想辦法移動到新開的頁面\n",
    "'''\n",
    "# 跳到最新的分頁\n",
    "for handle in browser.window_handles:\n",
    "    browser.switch_to_window(handle)"
   ]
  },
  {
   "cell_type": "code",
   "execution_count": 9,
   "metadata": {
    "scrolled": true
   },
   "outputs": [
    {
     "name": "stdout",
     "output_type": "stream",
     "text": [
      "get\n",
      "<selenium.webdriver.firefox.webelement.FirefoxWebElement (session=\"73995b61-4cb3-b845-a8d3-69481e147628\", element=\"4ed6345f-6a58-8646-a87f-a158c2ddd820\")>\n"
     ]
    }
   ],
   "source": [
    "try:\n",
    "    # sign_in = browser.find_elements_by_xpath(\"/html/body/header/div/aside/div/nav/ul/li[2]\")\n",
    "    sign_in = browser.find_elements_by_xpath(\"//header[@class='masthead']/div/aside/div/nav/ul/li[2]\")\n",
    "    print('get')\n",
    "except:\n",
    "    print('fail to get')\n",
    "for i in sign_in:\n",
    "    print(i)"
   ]
  },
  {
   "cell_type": "code",
   "execution_count": 10,
   "metadata": {},
   "outputs": [],
   "source": [
    "sign_in[0].click()\n",
    "time.sleep(3)"
   ]
  },
  {
   "cell_type": "code",
   "execution_count": 11,
   "metadata": {},
   "outputs": [
    {
     "name": "stdout",
     "output_type": "stream",
     "text": [
      "get\n",
      "<selenium.webdriver.firefox.webelement.FirefoxWebElement (session=\"73995b61-4cb3-b845-a8d3-69481e147628\", element=\"d8e4b23e-5c94-dc43-abba-d7fdc26a5deb\")>\n"
     ]
    }
   ],
   "source": [
    "try:\n",
    "    sign_in_info = browser.find_elements_by_xpath(\"//input[@id='i0116']\")\n",
    "    print('get')\n",
    "except:\n",
    "    print('fail to get')\n",
    "for i in sign_in_info:\n",
    "    print(i)"
   ]
  },
  {
   "cell_type": "code",
   "execution_count": 12,
   "metadata": {},
   "outputs": [],
   "source": [
    "# input to the sigin_in bar\n",
    "sign_in_info[0].send_keys('xxxxxxxxxxxxxx')\n",
    "time.sleep(1)"
   ]
  },
  {
   "cell_type": "code",
   "execution_count": 13,
   "metadata": {},
   "outputs": [
    {
     "name": "stdout",
     "output_type": "stream",
     "text": [
      "get\n",
      "<selenium.webdriver.firefox.webelement.FirefoxWebElement (session=\"73995b61-4cb3-b845-a8d3-69481e147628\", element=\"52b6ae30-9ba6-f64d-a6fb-fca948628fb3\")>\n"
     ]
    }
   ],
   "source": [
    "try:\n",
    "    sign_in_ = browser.find_elements_by_xpath(\"//input[@id='idSIButton9']\")\n",
    "    print('get')\n",
    "except:\n",
    "    print('fail to get')\n",
    "for i in sign_in_:\n",
    "    print(i)\n",
    "sign_in_[0].click()\n",
    "time.sleep(1)"
   ]
  },
  {
   "cell_type": "code",
   "execution_count": 14,
   "metadata": {},
   "outputs": [
    {
     "name": "stdout",
     "output_type": "stream",
     "text": [
      "get\n",
      "<selenium.webdriver.firefox.webelement.FirefoxWebElement (session=\"73995b61-4cb3-b845-a8d3-69481e147628\", element=\"8abc18b9-0840-2b4a-8580-84cfdcd59781\")>\n"
     ]
    }
   ],
   "source": [
    "try:\n",
    "    pwd_info = browser.find_elements_by_xpath(\"//input[@id='i0118']\")\n",
    "    print('get')\n",
    "except:\n",
    "    print('fail to get')\n",
    "for i in pwd_info:\n",
    "    print(i)\n",
    "\n",
    "pwd_info[0].send_keys('xxxxxxxxxxxxxxxxxxxxxxxxx')\n",
    "time.sleep(1)"
   ]
  },
  {
   "cell_type": "code",
   "execution_count": 15,
   "metadata": {},
   "outputs": [
    {
     "name": "stdout",
     "output_type": "stream",
     "text": [
      "get\n",
      "<selenium.webdriver.firefox.webelement.FirefoxWebElement (session=\"73995b61-4cb3-b845-a8d3-69481e147628\", element=\"a8b2bdbf-6df3-b744-87a5-7efa505b256b\")>\n"
     ]
    }
   ],
   "source": [
    "try:\n",
    "    sign_in_ = browser.find_elements_by_xpath(\"//input[@id='idSIButton9']\")\n",
    "    print('get')\n",
    "except:\n",
    "    print('fail to get')\n",
    "for i in sign_in_:\n",
    "    print(i)\n",
    "sign_in_[0].click()\n",
    "time.sleep(1)"
   ]
  },
  {
   "cell_type": "code",
   "execution_count": 18,
   "metadata": {},
   "outputs": [],
   "source": [
    "browser.quit()"
   ]
  },
  {
   "cell_type": "markdown",
   "metadata": {},
   "source": [
    "# 2. scroll the screen with special keys."
   ]
  },
  {
   "cell_type": "markdown",
   "metadata": {},
   "source": [
    "<table>\n",
    "    <tr>\n",
    "        <td style=\"text-align:center\">Attributes</td>\n",
    "        <td style=\"text-align:center\">Meanings</td>\n",
    "    </tr>\n",
    "    <tr>\n",
    "        <td>Keys.DOWN, Keys.UP, Keys.LEFT, Keys.RIGHT</td>\n",
    "        <td>The keyboard arrow keys</td>\n",
    "    </tr>\n",
    "    <tr>\n",
    "        <td>Keys.ENTER, Keys.RETURN</td>\n",
    "        <td>The ENTER and RETURN keys</td>\n",
    "    </tr>\n",
    "    <tr>\n",
    "        <td>Keys.HOME, Keys.END, Keys.PAGE_DOWN, Keys.PAGE_UP</td>\n",
    "        <td>The home, end, pagedown, and pageup keys</td>\n",
    "    </tr>\n",
    "    <tr>\n",
    "        <td>Keys.ESCAPE, Keys.BACK_SPACE, Keys.DELETE</td>\n",
    "        <td>The ESC, BACKSPACE, and DELETE keys</td>\n",
    "    </tr> \n",
    "    <tr>\n",
    "        <td>Keys.F1, Keys.F2,..., Keys.F12</td>\n",
    "        <td>The F1 to F12 keys at the top of the keyboard</td>\n",
    "    </tr> \n",
    "    <tr>\n",
    "        <td>Keys.TAB</td>\n",
    "        <td>The TAB key</td>\n",
    "    </tr> \n",
    "</table>"
   ]
  },
  {
   "cell_type": "code",
   "execution_count": 16,
   "metadata": {},
   "outputs": [],
   "source": [
    "from selenium import webdriver\n",
    "from selenium.webdriver.common.keys import Keys\n",
    "import time"
   ]
  },
  {
   "cell_type": "code",
   "execution_count": 17,
   "metadata": {},
   "outputs": [],
   "source": [
    "browser = webdriver.Firefox()\n",
    "browser.get('http://nostarch.com')\n",
    "time.sleep(3)\n",
    "htmlElem = browser.find_element_by_tag_name('html')\n",
    "htmlElem.send_keys(Keys.END)  # scroll to bottom\n",
    "time.sleep(1)\n",
    "htmlElem.send_keys(Keys.HOME)  # scroll to top"
   ]
  },
  {
   "cell_type": "code",
   "execution_count": 18,
   "metadata": {},
   "outputs": [],
   "source": [
    "browser.quit()"
   ]
  }
 ],
 "metadata": {
  "kernelspec": {
   "display_name": "Python 3",
   "language": "python",
   "name": "python3"
  },
  "language_info": {
   "codemirror_mode": {
    "name": "ipython",
    "version": 3
   },
   "file_extension": ".py",
   "mimetype": "text/x-python",
   "name": "python",
   "nbconvert_exporter": "python",
   "pygments_lexer": "ipython3",
   "version": "3.7.3"
  }
 },
 "nbformat": 4,
 "nbformat_minor": 2
}
