{
 "cells": [
  {
   "cell_type": "markdown",
   "metadata": {},
   "source": [
    "Write a program that takes an email address and string of text on the command line and then, using Selenium, logs into your email account and sends an email of the string to the provided address. (You might want to set up a separate email account for this program.)\n",
    "\n",
    "This would be a nice way to add a notification feature to your programs. You could also write a similar program to send messages from a Facebook or Twitter account."
   ]
  },
  {
   "cell_type": "markdown",
   "metadata": {},
   "source": [
    "#### 強制等待: sleep(x)\n",
    "強制等待 x 秒\n",
    "```python\n",
    "from time import sleep\n",
    "sleep(x)\n",
    "```\n",
    "#### 隱性等待: implicitly_wait(x)\n",
    "最長等待 x 秒，若在 x 時限內完成則會執行下一步\n",
    "```python\n",
    "from selenium import webdriver\n",
    "\n",
    "driver = webdriver.firefox()\n",
    "driver.implicitly_wait(30)\n",
    "'''若是在30秒之內載入完成(瀏覽器標籤的小圈圈不再轉)，則繼續執行'''\n",
    "driver.get('https://www.msn.com/zh-tw')\n",
    "```\n",
    "隱性等待在<font color=orange>整個driver週期</font>都<font color=orange>有效</font> (代表不需要重複宣告)\n",
    "\n",
    "#### 顯性等待: WebDriverWait(driver, x, y).until(xxxxx))\n",
    "最長等待 x 秒，若在 x 時限內<font color=orange>找到所要找的元素</font>則會執行下一步\n",
    "```python\n",
    "from selenium import webdriver\n",
    "from selenium.webdriver.support.wait import WebDriverWait\n",
    "from selenium.webdriver.support.wait import expected_condition as EC\n",
    "from selenium.webdriver.common.by import By\n",
    "\n",
    "driver = webdriver.Firefox()\n",
    "driver.implicitly_wait(10)  # 隱性等待和顯性等待可以同時使用，啖晦曲兩者中最大的來使用！\n",
    "driver.get('https://huilansame.github.io')\n",
    "locator = (By.LINK_TEXT, 'CSDN')  # 要找的目標\n",
    "\n",
    "try:\n",
    "    WebDriverWait(driver, 20, 0.5).until(EC.presence_of_element_located(locator))\n",
    "    print driver.find_element_by_link_text('CSDN').get_attribute('href')\n",
    "finally:\n",
    "    driver.close()\n",
    "```\n",
    "最長等待 20 秒，在時限內每 0.5 秒檢查一次，若找到link_text為<font color=orange>'CSDN'的元素</font>則會執行下一步"
   ]
  },
  {
   "cell_type": "code",
   "execution_count": 25,
   "metadata": {},
   "outputs": [],
   "source": [
    "#! /usr/bin/env python3\n",
    "from selenium import webdriver\n",
    "from selenium.webdriver.support.wait import WebDriverWait\n",
    "from selenium.webdriver.support import expected_conditions as EC\n",
    "from selenium.webdriver.common.by import By\n",
    "import time"
   ]
  },
  {
   "cell_type": "code",
   "execution_count": 45,
   "metadata": {},
   "outputs": [
    {
     "name": "stdout",
     "output_type": "stream",
     "text": [
      "E-mail to ??\n",
      "paternhong@hotmail.com\n",
      "E-mail title?\n",
      "hihi\n",
      "What's the message?\n",
      "do you knooooow?\n",
      "Go to login page ...\n"
     ]
    },
    {
     "name": "stderr",
     "output_type": "stream",
     "text": [
      "/Users/paternhong/anaconda3/lib/python3.7/site-packages/ipykernel_launcher.py:15: DeprecationWarning: use driver.switch_to.window instead\n",
      "  from ipykernel import kernelapp as app\n"
     ]
    }
   ],
   "source": [
    "mailTo = input('E-mail to ??\\n')\n",
    "title = input('E-mail title?\\n')\n",
    "mes = input(\"What's the message?\\n\") \n",
    "browser = webdriver.Firefox()\n",
    "browser.implicitly_wait(10)\n",
    "browser.get('https://www.msn.com/zh-tw')\n",
    "\n",
    "# 連到 hotmail\n",
    "try:\n",
    "    ''' (By.XPATH, '//a[@href=\"https://outlook.com/\"]') <<< 注意有括號刮起來！！！'''\n",
    "    olook = WebDriverWait(browser, 10, 0.5).until(EC.presence_of_element_located(\n",
    "        (By.XPATH, '//a[@href=\"https://outlook.com/\"]')))\n",
    "    olook.click()\n",
    "    print('Go to login page ...')\n",
    "    browser.switch_to_window(browser.window_handles[-1])\n",
    "except:\n",
    "    print('Fail to find the link to login page.')\n",
    "    browser.quit()\n",
    "\n",
    "# 打開登入連結並進入登入畫面\n",
    "try:\n",
    "    # 進登入頁面\n",
    "    sign_in = WebDriverWait(browser, 10, 0.5).until(EC.presence_of_element_located(\n",
    "        (By.XPATH, \"/html/body/header/div/aside/div/nav/ul/li[2]/a\")))\n",
    "    time.sleep(1)\n",
    "    sign_in.click()\n",
    "    # 進入登入頁面輸入帳號\n",
    "    sign_in_info = WebDriverWait(browser, 10, 0.5).until(EC.presence_of_element_located(\n",
    "        (By.XPATH, \"//input[@id='i0116']\")))\n",
    "    sign_in_info.send_keys('paternhong@hotmail.com')\n",
    "    time.sleep(1)\n",
    "    sign_in = WebDriverWait(browser, 10, 0.5).until(EC.presence_of_element_located(\n",
    "        (By.XPATH, '//*[@id=\"idSIButton9\"]')))\n",
    "    sign_in.click()\n",
    "    # 輸入密碼並登入\n",
    "    pwd_info = WebDriverWait(browser, 10, 0.5).until(EC.presence_of_element_located(\n",
    "        (By.XPATH, \"//input[@id='i0118']\")))\n",
    "    pwd_info.send_keys('xxxxxxxxxxxxxxxxxxxxx')\n",
    "    time.sleep(1)  # 兩個button共用相同的xpath,不等的話可能會因執行太快而抓到舊的button造成錯誤\n",
    "    _in = WebDriverWait(browser, 10, 0.5).until(EC.presence_of_element_located(\n",
    "        (By.XPATH, '//*[@id=\"idSIButton9\"]')))\n",
    "    _in.click()\n",
    "except:\n",
    "    print('Fail to find login page.')\n",
    "    browser.quit()\n",
    "    \n",
    "# 寫信\n",
    "try:\n",
    "    # 新增郵件\n",
    "    new_mail = WebDriverWait(browser, 10, 0.5).until(EC.presence_of_element_located(\n",
    "        (By.XPATH, \"//*[@id='id__3']\")))\n",
    "    time.sleep(1)\n",
    "    new_mail.click()\n",
    "    # 輸入收信人\n",
    "    mail_to = WebDriverWait(browser, 10, 0.5).until(EC.presence_of_element_located(\n",
    "        (By.XPATH, \"/html/body/div[2]/div/div[2]/div/div[1]/div[3]/div[2]/div/div[2]/div[1]/\"\n",
    "         \"div/div/div/div[1]/div[1]/div[1]/div[2]/div/div/div/div/div/div[1]/div/div/input\")))\n",
    "    mail_to.send_keys(mailTo)\n",
    "    # 輸入主旨\n",
    "    mail_title = WebDriverWait(browser, 10, 0.5).until(EC.presence_of_element_located(\n",
    "        (By.XPATH, \"//*[@id='subjectLine0']\")))\n",
    "    mail_title.send_keys(title)\n",
    "    # 輸入信件內容\n",
    "    mail_main = WebDriverWait(browser, 10, 0.5).until(EC.presence_of_element_located(\n",
    "        (By.XPATH, \"/html/body/div[2]/div/div[2]/div/div[1]/div[3]/div[2]/div/div[2]/div[1]/div/div/div/div[1]/div[2]/div\")))\n",
    "    mail_main.send_keys(mes)\n",
    "    # 送出信件\n",
    "    mail_send = WebDriverWait(browser, 10, 0.5).until(EC.presence_of_element_located(\n",
    "        (By.XPATH, \"/html/body/div[2]/div/div[2]/div/div[1]/div[3]/div[2]/div/\"\n",
    "         \"div[2]/div[1]/div/div/div/div[1]/div[4]/div[2]/div[1]/button[1]/div/div\")))\n",
    "    time.sleep(3)\n",
    "    mail_send.click()\n",
    "    \n",
    "except:\n",
    "    print('Fail to write&send email.')\n",
    "    browser.quit()\n",
    "browser.quit()"
   ]
  }
 ],
 "metadata": {
  "kernelspec": {
   "display_name": "Python 3",
   "language": "python",
   "name": "python3"
  },
  "language_info": {
   "codemirror_mode": {
    "name": "ipython",
    "version": 3
   },
   "file_extension": ".py",
   "mimetype": "text/x-python",
   "name": "python",
   "nbconvert_exporter": "python",
   "pygments_lexer": "ipython3",
   "version": "3.7.3"
  }
 },
 "nbformat": 4,
 "nbformat_minor": 2
}
