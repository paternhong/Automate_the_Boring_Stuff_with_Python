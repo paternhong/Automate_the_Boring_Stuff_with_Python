{
 "cells": [
  {
   "cell_type": "code",
   "execution_count": 2,
   "metadata": {},
   "outputs": [
    {
     "data": {
      "text/plain": [
       "'\\n        1\\n       21\\n      321\\n     4321\\n    54321\\n   654321\\n  7654321\\n 87654321\\n987654321\\n\\n'"
      ]
     },
     "execution_count": 2,
     "metadata": {},
     "output_type": "execute_result"
    }
   ],
   "source": [
    "'''\n",
    "        1\n",
    "       21\n",
    "      321\n",
    "     4321\n",
    "    54321\n",
    "   654321\n",
    "  7654321\n",
    " 87654321\n",
    "987654321\n",
    "\n",
    "'''\n"
   ]
  },
  {
   "cell_type": "code",
   "execution_count": 1,
   "metadata": {},
   "outputs": [
    {
     "name": "stdout",
     "output_type": "stream",
     "text": [
      "        1\n",
      "       21\n",
      "      321\n",
      "     4321\n",
      "    54321\n",
      "   654321\n",
      "  7654321\n",
      " 87654321\n",
      "987654321\n"
     ]
    }
   ],
   "source": [
    "for i in range(1, 10):\n",
    "    for j in range(1, 10):\n",
    "        if j < 10 - i:  # j的位置小於有數字的位置 1的時候為10 -1 = 9, 2的時候為 10 -1 = 9, 10 - 2 = 8\n",
    "            print(' ', end='')\n",
    "        else:\n",
    "            print(10 - j, end='')\n",
    "    print()  # 用來換行"
   ]
  },
  {
   "cell_type": "code",
   "execution_count": 17,
   "metadata": {},
   "outputs": [
    {
     "name": "stdout",
     "output_type": "stream",
     "text": [
      "        1\n",
      "       21\n",
      "      321\n",
      "     4321\n",
      "    54321\n",
      "   654321\n",
      "  7654321\n",
      " 87654321\n",
      "987654321\n"
     ]
    }
   ],
   "source": [
    "ans_list = [[' ']*9 for i in range(9)]\n",
    "for i in range(len(ans_list)):\n",
    "    for j in range(i + 1):\n",
    "        ans_list[i][8 - j] = str(j + 1)\n",
    "\n",
    "for i in ans_list:\n",
    "    print(''.join(i))"
   ]
  },
  {
   "cell_type": "code",
   "execution_count": 20,
   "metadata": {},
   "outputs": [
    {
     "name": "stdout",
     "output_type": "stream",
     "text": [
      "        1\n",
      "       21\n",
      "      321\n",
      "     4321\n",
      "    54321\n",
      "   654321\n",
      "  7654321\n",
      " 87654321\n",
      "987654321\n"
     ]
    }
   ],
   "source": [
    "'''\n",
    "for i in range(1, 10):\n",
    "    string = ''\n",
    "    for j in range(i , 0, -1):\n",
    "        string += str(j)\n",
    "    print(string.rjust(9))\n",
    "'''\n",
    "# 後面有修改版的，更好"
   ]
  },
  {
   "cell_type": "code",
   "execution_count": 3,
   "metadata": {},
   "outputs": [
    {
     "name": "stdout",
     "output_type": "stream",
     "text": [
      "        1\n",
      "       21\n",
      "      321\n",
      "     4321\n",
      "    54321\n",
      "   654321\n",
      "  7654321\n",
      " 87654321\n",
      "987654321\n"
     ]
    }
   ],
   "source": [
    "string = '987654321'\n",
    "\n",
    "for i in range(9):\n",
    "    print(string[8 - i:].rjust(len(string)))"
   ]
  },
  {
   "cell_type": "code",
   "execution_count": 6,
   "metadata": {},
   "outputs": [
    {
     "name": "stdout",
     "output_type": "stream",
     "text": [
      "        1\n",
      "       21\n",
      "      321\n",
      "     4321\n",
      "    54321\n",
      "   654321\n",
      "  7654321\n",
      " 87654321\n",
      "987654321\n"
     ]
    }
   ],
   "source": [
    "string = ''\n",
    "for i in range(1, 10):\n",
    "    string = str(i) + string  # 利用字串 a + b 和 b + a 不同的特性！！！\n",
    "    print(string.rjust(9))"
   ]
  }
 ],
 "metadata": {
  "kernelspec": {
   "display_name": "Python 3",
   "language": "python",
   "name": "python3"
  },
  "language_info": {
   "codemirror_mode": {
    "name": "ipython",
    "version": 3
   },
   "file_extension": ".py",
   "mimetype": "text/x-python",
   "name": "python",
   "nbconvert_exporter": "python",
   "pygments_lexer": "ipython3",
   "version": "3.7.3"
  }
 },
 "nbformat": 4,
 "nbformat_minor": 2
}
