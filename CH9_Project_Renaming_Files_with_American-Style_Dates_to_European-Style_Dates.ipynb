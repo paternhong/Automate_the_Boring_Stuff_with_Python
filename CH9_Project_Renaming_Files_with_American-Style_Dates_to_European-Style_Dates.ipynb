{
 "cells": [
  {
   "cell_type": "markdown",
   "metadata": {},
   "source": [
    "Say your boss emails you thousands of files with American-style dates (MM-DD-YYYY) in their names and needs them renamed to European-style dates (DD-MM-YYYY). This boring task could take all day to do by hand! Let’s write a program to do it instead.\n",
    "\n",
    "Here’s what the program does:\n",
    "* searches all the filenames in the current working directory for American-style dates.\n",
    "* When one is found, it renames the file with the month and day swapped to make it European-style.\n",
    "* This means the code will need to do the following:\n",
    "* Create a regex that can identify the text pattern of American-style dates.\n",
    "* Call os.listdir() to find all the files in the working directory.\n",
    "* Loop over each filename, using the regex to check whether it has a date.\n",
    "* If it has a date, rename the file with shutil.move().\n",
    "\n",
    "For this project, open a new file editor window and save your code as renameDates.py."
   ]
  },
  {
   "cell_type": "code",
   "execution_count": 2,
   "metadata": {},
   "outputs": [],
   "source": [
    "import os, shutil, re"
   ]
  },
  {
   "cell_type": "code",
   "execution_count": 3,
   "metadata": {},
   "outputs": [],
   "source": [
    "os.chdir('CH9_Project_Renaming_Files')"
   ]
  },
  {
   "cell_type": "code",
   "execution_count": 4,
   "metadata": {},
   "outputs": [
    {
     "data": {
      "text/plain": [
       "'/Users/paternhong/Desktop/ML100/1_Automate_the_Boring_Stuff_with_Python/CH9_Project_Renaming_Files'"
      ]
     },
     "execution_count": 4,
     "metadata": {},
     "output_type": "execute_result"
    }
   ],
   "source": [
    "os.getcwd()"
   ]
  },
  {
   "cell_type": "code",
   "execution_count": 10,
   "metadata": {},
   "outputs": [
    {
     "name": "stdout",
     "output_type": "stream",
     "text": [
      "Rename \"CH4_6-9-1900_how\" to \"CH4_9-6-1900_how\"...\n",
      "Rename \"03-12-2005hello\" to \"12-03-2005hello\"...\n",
      "Rename \"CH4_5-6-1989\" to \"CH4_6-5-1989\"...\n",
      "Rename \"04-07-2056\" to \"07-04-2056\"...\n"
     ]
    }
   ],
   "source": [
    "findRule = re.compile(r'''^(.*?\\D|)               # all text befors the date, 1st group\n",
    "                    (0?[1-9]|1[0-2])-              # one or two digits for the month, 2nd group\n",
    "                    ([0-2]?[1-9]|[1-3][01])-     # one or two digits for the day, 3rd group\n",
    "                    ((19|20)\\d\\d)                   # four digits for the year, 4th group\n",
    "                    (\\D.*?|)$                             # all text after the date, 6th group\n",
    "                    ''', re.VERBOSE)\n",
    "\n",
    "path = os.getcwd()\n",
    "fileName = os.listdir(path)\n",
    "\n",
    "for amerFilename in fileName:\n",
    "    regFind = findRule.search(amerFilename)\n",
    "    \n",
    "    if regFind == None:\n",
    "        continue\n",
    "    \n",
    "    # Get the different part of file name.\n",
    "    beforePart = regFind.group(1)\n",
    "    monthPart = regFind.group(2)\n",
    "    dayPart = regFind.group(3)\n",
    "    yearPart = regFind.group(4)\n",
    "    afterPart = regFind.group(6)\n",
    "    \n",
    "    # print('{} {} {} {} {}'.format(beforePart, monthPart, dayPart, yearPart, afterPart))\n",
    "    euroFilename = beforePart + dayPart + '-' + monthPart + '-' + yearPart + afterPart\n",
    "    print('Rename \"{}\" to \"{}\"...'.format(amerFilename, euroFilename))\n",
    "    shutil.move(amerFilename, euroFilename)"
   ]
  },
  {
   "cell_type": "code",
   "execution_count": null,
   "metadata": {
    "scrolled": true
   },
   "outputs": [],
   "source": []
  },
  {
   "cell_type": "code",
   "execution_count": null,
   "metadata": {},
   "outputs": [],
   "source": []
  },
  {
   "cell_type": "code",
   "execution_count": null,
   "metadata": {},
   "outputs": [],
   "source": []
  }
 ],
 "metadata": {
  "kernelspec": {
   "display_name": "Python 3",
   "language": "python",
   "name": "python3"
  },
  "language_info": {
   "codemirror_mode": {
    "name": "ipython",
    "version": 3
   },
   "file_extension": ".py",
   "mimetype": "text/x-python",
   "name": "python",
   "nbconvert_exporter": "python",
   "pygments_lexer": "ipython3",
   "version": "3.7.3"
  }
 },
 "nbformat": 4,
 "nbformat_minor": 2
}
