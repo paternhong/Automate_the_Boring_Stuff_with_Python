{
 "cells": [
  {
   "cell_type": "markdown",
   "metadata": {},
   "source": [
    "Say you’re a geography teacher with 35 students in your class and you want to give a pop quiz on US state capitals. Alas, your class has a few bad eggs in it, and you can’t trust the students not to cheat. You’d like to randomize the order of questions so that each quiz is unique, making it impossible for anyone to crib answers from anyone else. Of course, doing this by hand would be a lengthy and boring affair. Fortunately, you know some Python.\n",
    "\n",
    "* Here is what the program does:\n",
    "* Creates 35 different quizzes.\n",
    "* Creates 50 multiple-choice questions for each quiz, in random order.\n",
    "* Provides the correct answer and three random wrong answers for each question, in random order.\n",
    "* Writes the quizzes to 35 text files.\n",
    "* Writes the answer keys to 35 text files.\n",
    "* This means the code will need to do the following:\n",
    "* Store the states and their capitals in a dictionary.\n",
    "* Call open(), write(), and close() for the quiz and answer key text files.\n",
    "\n",
    "Use random.shuffle() to randomize the order of the questions and multiple-choice options."
   ]
  },
  {
   "cell_type": "code",
   "execution_count": 1,
   "metadata": {},
   "outputs": [],
   "source": [
    "import random\n",
    "import os\n",
    "capitals = {'Alabama': 'Montgomery', 'Alaska': 'Juneau', 'Arizona': 'Phoenix',\n",
    "            'Arkansas': 'Little Rock', 'California': 'Sacramento', 'Colorado': 'Denver',\n",
    "            'Connecticut': 'Hartford', 'Delaware': 'Dover', 'Florida': 'Tallahassee',\n",
    "            'Georgia': 'Atlanta', 'Hawaii': 'Honolulu', 'Idaho': 'Boise', 'Illinois': 'Springfield',\n",
    "            'Indiana': 'Indianapolis', 'Iowa': 'Des Moines', 'Kansas':'Topeka',\n",
    "            'Kentucky': 'Frankfort', 'Louisiana': 'Baton Rouge', 'Maine': 'Augusta',\n",
    "            'Maryland': 'Annapolis', 'Massachusetts': 'Boston', 'Michigan': 'Lansing',\n",
    "            'Minnesota': 'Saint Paul', 'Mississippi': 'Jackson', 'Missouri': 'Jefferson City',\n",
    "            'Montana': 'Helena', 'Nebraska': 'Lincoln', 'Nevada': 'Carson City',\n",
    "            'New Hampshire': 'Concord', 'New Jersey': 'Trenton', 'New Mexico': 'Santa Fe',\n",
    "            'New York': 'Albany', 'North Carolina': 'Raleigh', 'North Dakota': 'Bismarck',\n",
    "            'Ohio': 'Columbus', 'Oklahoma': 'Oklahoma City', 'Oregon': 'Salem',\n",
    "            'Pennsylvania': 'Harrisburg', 'Rhode Island': 'Providence',\n",
    "            'South Carolina': 'Columbia', 'South Dakota': 'Pierre', 'Tennessee': 'Nashville',\n",
    "            'Texas': 'Austin', 'Utah': 'Salt Lake City', 'Vermont': 'Montpelier',\n",
    "            'Virginia': 'Richmond', 'Washington': 'Olympia', 'West Virginia': 'Charleston',\n",
    "            'Wisconsin': 'Madison', 'Wyoming': 'Cheyenne'}"
   ]
  },
  {
   "cell_type": "code",
   "execution_count": 2,
   "metadata": {},
   "outputs": [],
   "source": [
    "if not os.path.exists('/Users/paternhong/Desktop/ML100/1_Automate_the_Boring_Stuff_with_Python/CH8_Project_Generating_Random_Quiz_Files'):\n",
    "    os.makedirs('/Users/paternhong/Desktop/ML100/1_Automate_the_Boring_Stuff_with_Python/CH8_Project_Generating_Random_Quiz_Files')\n",
    "\n",
    "for quizNum in range(1, 36):\n",
    "    quizfile = open('/Users/paternhong/Desktop/ML100/1_Automate_the_Boring_Stuff_with_Python/CH8_Project_Generating_Random_Quiz_Files/File_{}.txt'.format(quizNum), 'w')\n",
    "    ansfile = open('/Users/paternhong/Desktop/ML100/1_Automate_the_Boring_Stuff_with_Python/CH8_Project_Generating_Random_Quiz_Files/Ans_{}.txt'.format(quizNum), 'w')\n",
    "    \n",
    "    # 寫入quiz & answer 的 title\n",
    "    quizfile.write('Name:\\n\\nDate:\\n\\nPeriod:\\n\\n')\n",
    "    quizfile.write((' ' * 20) + 'State Capitals Quiz (Form {})'.format(quizNum))\n",
    "    quizfile.write('\\n\\n')\n",
    "    \n",
    "    ansfile.write('The answer of State Capitals Quiz (Form {})'.format(quizNum))\n",
    "    ansfile.write('\\n\\n')\n",
    "    \n",
    "    # make questions list\n",
    "    states = random.sample(capitals.keys(), 50)\n",
    "    # make answers list\n",
    "    correct_ans = [capitals[i] for i in states]\n",
    "    # make options list(Include 3 wrong anser and 1 correct answer), loop 50 times\n",
    "    options_list = []\n",
    "    for num in range(50):\n",
    "        # 先排除正解，由於從correct_ans下手，num即為當下正解的index\n",
    "        temp = correct_ans.pop(num)\n",
    "        wrong_ans = random.sample(correct_ans, 3)\n",
    "        # 把正解插回原本該在的位置\n",
    "        correct_ans.insert(num, temp)\n",
    "        options = wrong_ans + [temp]  # List\n",
    "        random.shuffle(options)\n",
    "        options_list.append(options)  # List組成的List\n",
    "    \n",
    "    # questions & options 寫入quizfile, answers 寫入ansfile\n",
    "    for questionNum in range(50):\n",
    "        quizfile.write(\"___ {}. What's the capital of {}??\\n\".format(questionNum + 1, states[questionNum]))\n",
    "        for i in range(len(options_list[questionNum])):  # 選項\n",
    "            quizfile.write(\"        {}. {}\\n\".format(chr(65 + i), options_list[questionNum][i]))  # 利用acsii code配合i遞增來產生選項標題ABCD\n",
    "            # 為了同時寫入正解的ABCD選項，所以在這用 if 判斷並把correct_ans寫入ansfile\n",
    "            if options_list[questionNum][i] == correct_ans[questionNum] and correct_ans[questionNum] == capitals[states[questionNum]]:  # 多一層保險\n",
    "                ansfile.write(\"{}. The capital of {} is: \\n\".format(questionNum + 1, states[questionNum]))\n",
    "                ansfile.write(\"   {}. {}\\n\".format(chr(65 + i), correct_ans[questionNum]))\n",
    "        # 增加不同題目的間距\n",
    "        quizfile.write('\\n')\n",
    "        ansfile.write('\\n')\n",
    "    \n",
    "    # 完成後 close files\n",
    "    quizfile.close()\n",
    "    ansfile.close()"
   ]
  }
 ],
 "metadata": {
  "kernelspec": {
   "display_name": "Python 3",
   "language": "python",
   "name": "python3"
  },
  "language_info": {
   "codemirror_mode": {
    "name": "ipython",
    "version": 3
   },
   "file_extension": ".py",
   "mimetype": "text/x-python",
   "name": "python",
   "nbconvert_exporter": "python",
   "pygments_lexer": "ipython3",
   "version": "3.7.3"
  }
 },
 "nbformat": 4,
 "nbformat_minor": 2
}
