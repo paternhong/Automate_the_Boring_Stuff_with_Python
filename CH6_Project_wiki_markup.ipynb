{
 "cells": [
  {
   "cell_type": "markdown",
   "metadata": {},
   "source": [
    "When editing a Wikipedia article, you can create a bulleted list by putting each list item on its own line and placing a star in front. But say you have a really large list that you want to add bullet points to. You could just type those stars at the beginning of each line, one by one. Or you could automate this task with a short Python script.\n",
    "\n",
    "The bulletPointAdder.py script will get the text from the clipboard, add a star and space to the beginning of each line, and then paste this new text to the clipboard. For example, if I copied the following text (for the Wikipedia article “List of Lists of Lists”) to the clipboard:\n",
    "\n",
    "Lists of animals  \n",
    "Lists of aquarium life  \n",
    "Lists of biologists by author abbreviation  \n",
    "Lists of cultivars  \n",
    "and then ran the bulletPointAdder.py program, the clipboard would then contain the following:\n",
    "\n",
    "\\* Lists of animals  \n",
    "\\* Lists of aquarium life  \n",
    "\\* Lists of biologists by author abbreviation  \n",
    "\\* Lists of cultivars  \n",
    "This star-prefixed text is ready to be pasted into a Wikipedia article as a bulleted list."
   ]
  },
  {
   "cell_type": "code",
   "execution_count": null,
   "metadata": {},
   "outputs": [],
   "source": [
    "#! usr/bin/env python3\n",
    "# bulletPointAdder.py - Adds Wikipedia bullet points to the start\n",
    "# of each line of text on the clipboard\n",
    "\n",
    "import pyperclip\n",
    "text = pyperclip.paste()\n",
    "text = text.split('\\n')\n",
    "for i in range(len(text)):\n",
    "    text[i] = '* ' + text[i]\n",
    "text = '\\n'.join(text)\n",
    "pyperclip.copy(text)\n",
    "\n"
   ]
  },
  {
   "cell_type": "code",
   "execution_count": null,
   "metadata": {},
   "outputs": [],
   "source": []
  },
  {
   "cell_type": "code",
   "execution_count": null,
   "metadata": {},
   "outputs": [],
   "source": []
  },
  {
   "cell_type": "code",
   "execution_count": null,
   "metadata": {},
   "outputs": [],
   "source": []
  }
 ],
 "metadata": {
  "kernelspec": {
   "display_name": "Python 3",
   "language": "python",
   "name": "python3"
  },
  "language_info": {
   "codemirror_mode": {
    "name": "ipython",
    "version": 3
   },
   "file_extension": ".py",
   "mimetype": "text/x-python",
   "name": "python",
   "nbconvert_exporter": "python",
   "pygments_lexer": "ipython3",
   "version": "3.7.3"
  }
 },
 "nbformat": 4,
 "nbformat_minor": 2
}
