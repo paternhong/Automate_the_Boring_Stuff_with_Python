{
 "cells": [
  {
   "cell_type": "markdown",
   "metadata": {},
   "source": [
    "Say you have a list value like this:\n",
    "\n",
    " spam = ['apples', 'bananas', 'tofu', 'cats']\n",
    "Write a function that takes a list value as an argument and returns a string with all the items separated by a comma and a space, with and inserted before the last item. For example, passing the previous spam list to the function would return 'apples, bananas, tofu, and cats'. But your function should be able to work with any list value passed to it."
   ]
  },
  {
   "cell_type": "code",
   "execution_count": 1,
   "metadata": {},
   "outputs": [],
   "source": [
    "spam = ['apples', 'bananas', 'tofu', 'cats']"
   ]
  },
  {
   "cell_type": "code",
   "execution_count": 9,
   "metadata": {},
   "outputs": [],
   "source": [
    "def addComma(A):\n",
    "    if len(A) == 0:\n",
    "        return None\n",
    "    elif len(A) == 1:\n",
    "        return A[0]\n",
    "    else:\n",
    "        ans = ', '.join(A[:len(A) - 1])\n",
    "    return ans + ' and ' + A[len(A) - 1]"
   ]
  },
  {
   "cell_type": "code",
   "execution_count": 14,
   "metadata": {},
   "outputs": [
    {
     "data": {
      "text/plain": [
       "'hi, how and are'"
      ]
     },
     "execution_count": 14,
     "metadata": {},
     "output_type": "execute_result"
    }
   ],
   "source": [
    "spam = ['hi', 'how', 'are']\n",
    "addComma(spam)"
   ]
  },
  {
   "cell_type": "code",
   "execution_count": 18,
   "metadata": {},
   "outputs": [],
   "source": [
    "def addComma1(A):\n",
    "    if len(A) == 0:\n",
    "        return None\n",
    "    elif len(A) == 1:\n",
    "        return A[0]\n",
    "    elif len(A) == 2:\n",
    "        return A[0] + ' and ' + A[1]\n",
    "    else:\n",
    "        ans = A[0]\n",
    "        for i in range(1, len(A) - 1):\n",
    "            ans += (', ' + A[i])\n",
    "        return ans + ' and ' + A[len(A) - 1]"
   ]
  },
  {
   "cell_type": "code",
   "execution_count": 23,
   "metadata": {},
   "outputs": [
    {
     "data": {
      "text/plain": [
       "'how, are, you and ok'"
      ]
     },
     "execution_count": 23,
     "metadata": {},
     "output_type": "execute_result"
    }
   ],
   "source": [
    "spam = ['how', 'are', 'you', 'ok']\n",
    "addComma1(spam)"
   ]
  }
 ],
 "metadata": {
  "kernelspec": {
   "display_name": "Python 3",
   "language": "python",
   "name": "python3"
  },
  "language_info": {
   "codemirror_mode": {
    "name": "ipython",
    "version": 3
   },
   "file_extension": ".py",
   "mimetype": "text/x-python",
   "name": "python",
   "nbconvert_exporter": "python",
   "pygments_lexer": "ipython3",
   "version": "3.7.3"
  }
 },
 "nbformat": 4,
 "nbformat_minor": 2
}
