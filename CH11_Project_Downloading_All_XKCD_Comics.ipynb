{
 "cells": [
  {
   "cell_type": "markdown",
   "metadata": {},
   "source": [
    "Blogs and other regularly updating websites usually have a front page with the most recent post as well as a Previous button on the page that takes you to the previous post. Then that post will also have a Previous button, and so on, creating a trail from the most recent page to the first post on the site. If you wanted a copy of the site’s content to read when you’re not online, you could manually navigate over every page and save each one. But this is pretty boring work, so let’s write a program to do it instead.\n",
    "\n",
    "XKCD is a popular geek webcomic with a website that fits this structure (see Figure 11-6). The front page at http://xkcd.com/ has a Prev button that guides the user back through prior comics. Downloading each comic by hand would take forever, but you can write a script to do this in a couple of minutes.\n",
    "\n",
    "Here’s what your program does:\n",
    "\n",
    "* Loads the XKCD home page.\n",
    "* Saves the comic image on that page.\n",
    "* Follows the Previous Comic link.\n",
    "* Repeats until it reaches the first comic.\n",
    "<table>\n",
    "    <tr>\n",
    "        <td><img src='https://automatetheboringstuff.com/images/000016.jpg' align='left'/></td>\n",
    "    </tr>\n",
    "</table>\n",
    "\n",
    "Figure 11-6. XKCD, “a webcomic of romance, sarcasm, math, and language”  \n",
    "\n",
    "This means your code will need to do the following:\n",
    "* Download pages with the requests module.\n",
    "* Find the URL of the comic image for a page using Beautiful Soup.\n",
    "* Download and save the comic image to the hard drive with iter_content().\n",
    "* Find the URL of the Previous Comic link, and repeat.\n",
    "* Open a new file editor window and save it as downloadXkcd.py."
   ]
  },
  {
   "cell_type": "code",
   "execution_count": 2,
   "metadata": {},
   "outputs": [],
   "source": [
    "import requests, bs4, os"
   ]
  },
  {
   "cell_type": "code",
   "execution_count": 6,
   "metadata": {},
   "outputs": [],
   "source": [
    "url = 'http://xkcd.com'\n",
    "os.makedirs('CH11_Project_xkcd', exist_ok=True)\n",
    "count = 0\n",
    "while not url.endswith('#'):\n",
    "\tprint('Searching {} ...'.format(url))\n",
    "\tcomicElem = requests.get(url)\n",
    "\tcomicElem.raise_for_status()\n",
    "\timg_soup = bs4.BeautifulSoup(comicElem.text, 'html.parser')\n",
    "\tfind = img_soup.select('div#comic img')\n",
    "\tif find == []:\n",
    "\t\tprint('Could not find img in {}.'.format(url))\n",
    "\telse:\n",
    "\t\ttry:\n",
    "\t\t\tcomicUrl = 'http:' + find[0].get('src')\n",
    "\t\t\t# Download image\n",
    "\t\t\tprint(\"Downloading image {}...\".format(comicUrl))\n",
    "\t\t\timg = requests.get(comicUrl)\n",
    "\t\t\timg.raise_for_status()\n",
    "\t\t\t# Save the img tp './xkcd' if no 'get url error' occur\n",
    "\t\t\timageFile = open(os.path.join('xkcd', os.path.basename(comicUrl)), 'wb')\n",
    "\t\t\tfor chunk in img.iter_content(100000):\n",
    "\t\t\t\timageFile.write(chunk)\n",
    "\t\t\timageFile.close()\n",
    "\t\t\tcount += 1\n",
    "\n",
    "\t\t# 發現無法get img時候執行\n",
    "\t\texcept requests.exceptions.MissingSchema:\n",
    "\t\t\tprint('Url {} is missing.'.format(comicUrl))\n",
    "\n",
    "\t\texcept requests.exceptions.InvalidURL:\n",
    "\t\t\tprint('Url {} is Invalid.'.format(comicUrl))\n",
    "\n",
    "\t\texcept requests.exceptions.HTTPError:\n",
    "\t\t\tprint('503 Server Error: Backend unavailable with Url {}.'.format(comicUrl))\n",
    "\n",
    "\t# Get the prev button's url.\n",
    "\tprevLink = img_soup.select('a[rel=\"prev\"]')[0]\n",
    "\turl = 'http://xkcd.com' + prevLink.get('href')\n",
    "print('Total download: {} comics.'.format(count))\n",
    "print('Done')\n"
   ]
  },
  {
   "cell_type": "code",
   "execution_count": null,
   "metadata": {},
   "outputs": [],
   "source": []
  }
 ],
 "metadata": {
  "kernelspec": {
   "display_name": "Python 3",
   "language": "python",
   "name": "python3"
  },
  "language_info": {
   "codemirror_mode": {
    "name": "ipython",
    "version": 3
   },
   "file_extension": ".py",
   "mimetype": "text/x-python",
   "name": "python",
   "nbconvert_exporter": "python",
   "pygments_lexer": "ipython3",
   "version": "3.7.3"
  }
 },
 "nbformat": 4,
 "nbformat_minor": 2
}
