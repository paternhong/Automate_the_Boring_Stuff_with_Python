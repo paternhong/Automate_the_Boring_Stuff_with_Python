{
 "cells": [
  {
   "cell_type": "markdown",
   "metadata": {},
   "source": [
    "Write a function named printTable() that takes a list of lists of strings and displays it in a well-organized table with each column right-justified. Assume that all the inner lists will contain the same number of strings. For example, the value could look like this:\n",
    "\n",
    " tableData = [['apples', 'oranges', 'cherries', 'banana'],  \n",
    "             ['Alice', 'Bob', 'Carol', 'David'],  \n",
    "             ['dogs', 'cats', 'moose', 'goose']]  \n",
    "Your printTable() function would print the following:\n",
    "\n",
    "apples    Alice    dogs  \n",
    "oranges   Bob     cats  \n",
    "cherries  Carol moose  \n",
    "banana   David  goose  "
   ]
  },
  {
   "cell_type": "code",
   "execution_count": 9,
   "metadata": {},
   "outputs": [],
   "source": [
    "def printTable(tabledata):\n",
    "    length = []\n",
    "    for i in tabledata:\n",
    "        temp = 0\n",
    "        for j in i:\n",
    "            if len(j) > temp:\n",
    "                temp = len(j)\n",
    "        length.append(temp)\n",
    "    \n",
    "    col = len(tabledata)\n",
    "    row = len(tabledata[0])\n",
    "    \n",
    "    for i in range(row):\n",
    "        for j in range(col):\n",
    "            print(tabledata[j][i].rjust(length[j]), end=' ')\n",
    "        print()\n",
    "        \n",
    "    "
   ]
  },
  {
   "cell_type": "code",
   "execution_count": 10,
   "metadata": {},
   "outputs": [
    {
     "name": "stdout",
     "output_type": "stream",
     "text": [
      "  apples Alice  dogs \n",
      " oranges   Bob  cats \n",
      "cherries Carol moose \n",
      "  banana David goose \n"
     ]
    }
   ],
   "source": [
    "tableData = [['apples', 'oranges', 'cherries', 'banana'],\n",
    "['Alice', 'Bob', 'Carol', 'David'],\n",
    "['dogs', 'cats', 'moose', 'goose']]\n",
    "printTable(tableData)"
   ]
  }
 ],
 "metadata": {
  "kernelspec": {
   "display_name": "Python 3",
   "language": "python",
   "name": "python3"
  },
  "language_info": {
   "codemirror_mode": {
    "name": "ipython",
    "version": 3
   },
   "file_extension": ".py",
   "mimetype": "text/x-python",
   "name": "python",
   "nbconvert_exporter": "python",
   "pygments_lexer": "ipython3",
   "version": "3.7.3"
  }
 },
 "nbformat": 4,
 "nbformat_minor": 2
}
