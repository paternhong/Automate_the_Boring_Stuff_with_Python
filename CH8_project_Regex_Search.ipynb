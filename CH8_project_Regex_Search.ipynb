{
 "cells": [
  {
   "cell_type": "markdown",
   "metadata": {},
   "source": [
    "Write a program that opens all .txt files in a folder and searches for any line that matches a user-supplied regular expression. The results should be printed to the screen."
   ]
  },
  {
   "cell_type": "code",
   "execution_count": 1,
   "metadata": {},
   "outputs": [],
   "source": [
    "import re, os"
   ]
  },
  {
   "cell_type": "code",
   "execution_count": 23,
   "metadata": {},
   "outputs": [
    {
     "name": "stdout",
     "output_type": "stream",
     "text": [
      "Please enter Regex Expression to find: \n",
      "\\d\\d\\d\n",
      "(800)-420-7240\n",
      "\n",
      "415 863-9900\n",
      "\n",
      "home (789)863-9950\n",
      "\n",
      "motehr (789)863-9950 ext. 432\n",
      "\n",
      "Office (666)863-9950 ext.432\n",
      "\n",
      "Father (999)886-543-7777\n",
      "\n",
      "Hello.  789-863-9950\n",
      "\n",
      "(789)863-9950\n",
      "\n",
      "(789)863-9950 ext. 432(789)863-9950 ext. 432\n",
      "\n"
     ]
    }
   ],
   "source": [
    "if not os.path.exists(os.path.join('CH8_Project_Regex_Search')):\n",
    "    os.makedirs(os.path.join('CH8_Project_Regex_Search'))\n",
    "files = os.listdir('CH8_Project_Regex_Search')\n",
    "\n",
    "'''\n",
    "想忽略大小寫，再加上引數 re.IGNORECASE\n",
    "想讓正規表示式 . 包含換行字元\\n，再加上引數 re.DOTALL\n",
    "想忽略大小寫同時包含換行字元的話，使用引數 re.IGNORECASE | re.DOTALL\n",
    "'''\n",
    "cp = re.compile(input('Please enter Regex Expression to find: \\n'))\n",
    "\n",
    "for _f in files:\n",
    "    file = open(os.path.join('CH8_Project_Regex_Search', _f))\n",
    "    cont_list = file.readlines()\n",
    "    file.close()\n",
    "    for line in cont_list:\n",
    "        if cp.search(line):\n",
    "            print(line)\n",
    "    "
   ]
  }
 ],
 "metadata": {
  "kernelspec": {
   "display_name": "Python 3",
   "language": "python",
   "name": "python3"
  },
  "language_info": {
   "codemirror_mode": {
    "name": "ipython",
    "version": 3
   },
   "file_extension": ".py",
   "mimetype": "text/x-python",
   "name": "python",
   "nbconvert_exporter": "python",
   "pygments_lexer": "ipython3",
   "version": "3.7.3"
  }
 },
 "nbformat": 4,
 "nbformat_minor": 2
}
