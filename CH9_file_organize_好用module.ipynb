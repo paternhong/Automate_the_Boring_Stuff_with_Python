{
 "cells": [
  {
   "cell_type": "markdown",
   "metadata": {},
   "source": [
    "## `shutil module`"
   ]
  },
  {
   "cell_type": "code",
   "execution_count": 1,
   "metadata": {},
   "outputs": [],
   "source": [
    "import os, shutil"
   ]
  },
  {
   "cell_type": "markdown",
   "metadata": {},
   "source": [
    "### `shutil.copy(source, destination)` - 把source(<font color=orange>檔案</font>)複製到destination(<font color=orange>檔案 or 資料夾</font>)，之後回傳一個複製過去檔案路徑的字串  \n",
    "shutil.copy() 把 try.txt 複製到資料夾 move_to 內。 <font color=red>&lt; 注意 &gt;</font> 無法創造folder！！ \n",
    "\n",
    "<font color=red>&lt; 規則 &gt;</font>  \n",
    "*  <font color=orange>destination 存在 os</font>，且\n",
    " * destination 為 folder (basename 為 folder) -> 在destination內複製一份try.txt\n",
    " ```python\n",
    ">>> os.path.exists('/Users/move_to')\n",
    "True\n",
    ">>> shutil.copy('/Users/try.txt', '/Users/move_to')\n",
    "'/Users/move_to/try.txt'\n",
    "```\n",
    " * destination 為 file (basename 為 file) -> 複製 source file，並以 basename (destination的) 為其名<font color=orange>覆蓋</font>原本 destination 的 file\n",
    " ```python\n",
    ">>> os.path.exists('/Users/move_to/new.txt')\n",
    "True\n",
    ">>> shutil.copy('/Users/try.txt', '/Users/move_to/new.txt')\n",
    "'/Users/move_to/new.txt'\n",
    "```\n",
    "* <font color=orange>destination 不存在 os</font>，且\n",
    " * destination 的 dirname 存在 os -> 複製 source file，並以 basename (destination的) 儲存在 dirname folder 內\n",
    " ```python\n",
    ">>> os.path.exists('/Users/move_to/new.txt')\n",
    "False\n",
    ">>> os.path.exists('/Users/move_to')\n",
    "True\n",
    "''' 上面兩個判斷代表 '/Users/move_to' 內沒有 new.txt '''\n",
    ">>> shutil.copy('/Users/try.txt', '/Users/move_to/new.txt')\n",
    "'/Users/move_to/new.txt'\n",
    "```\n",
    " * destination 的 dirname 不存在 os -> FileNotFoundError ！！！\n",
    " ```python\n",
    ">>> os.path.exists('/Users/move_to/new.txt')\n",
    "False\n",
    ">>> os.path.exists('/Users/move_to')\n",
    "False\n",
    "''' 上面兩個判斷代表，甚至 '/Users/move_to' folder 都不存在 '''\n",
    ">>> shutil.copy('/Users/try.txt', '/Users/move_to/new.txt')\n",
    "FileNotFoundError: [Errno 2] No such file or directory: '/Users/move_to/new.txt'\n",
    "```\n",
    "\n",
    "<font color=red>P.S. </font>若變更 source file 的檔案類型(ex. source = .txt, destination = .jpeg)，可能導致複製的檔案無法使用！！\n",
    "\n",
    "\n",
    "<font color=red>&lt; 規則 - 另外想法 &gt;</font> \n",
    "* dest 的<font color=orange> dirname 存在 os</font>，且\n",
    "  * dest <font color=orange>存在 os</font>，則\n",
    "     * 若 dest 為 <font color=orange>folder</font> - 把 source file 複製到 dest 內\n",
    "     * 若 dest 為 <font color=orange>file</font> - 把 source file 複製到 dest 的 dirname folder 內 ，並用  dest 的 basename <font color=orange>覆蓋</font>原本的檔案\n",
    "  * dest <font color=orange>不存在 os</font>，則 source file 複製到 dest 的 dirname folder 內 ，並用  dest 的 basename 作為檔名儲存\n",
    "* dest 的<font color=orange> dirname 不存在 os</font> - FileNotFoundError ！！！"
   ]
  },
  {
   "cell_type": "markdown",
   "metadata": {},
   "source": [
    "### `shutil.copytree(source, destination)` - 把source(<font color=orange>該資料夾內的所有子資料夾和檔案</font>)複製到destination資料夾，之後回傳一個複製過去資料夾路徑的字串\n",
    "\n",
    "相當於做以下的事情：\n",
    "1. `os.makedirs(destination)` <font color=orange>若destination資料夾已經存在os</font>會FileExistsError: [Errno 17] File exists\n",
    "2. 把 source 資料夾<font color=orange>內，</font>的所有檔案及子資料夾複製到剛剛製造的資料夾內\n",
    "\n",
    "```python\n",
    ">>> os.listdir('/Users/been_copy')  # 查看原本資料夾內容\n",
    "['1', 'free.txt', 'hello', '4']\n",
    "\n",
    ">>> shutil.treecopy('/Users/been_copy', '/Users/new_folder')  # 若 /Users/new_folder 資料夾已經存在os，則 error\n",
    "'/Users/new_folder'\n",
    ">>> os.listdir('/Users/new_folder')  # 查看複製的資料夾\n",
    "['1', 'free.txt', 'hello', '4']\n",
    "```"
   ]
  },
  {
   "cell_type": "code",
   "execution_count": 9,
   "metadata": {},
   "outputs": [
    {
     "data": {
      "text/plain": [
       "'/Users/paternhong/Desktop/ML100/1_Automate_the_Boring_Stuff_with_Python'"
      ]
     },
     "execution_count": 9,
     "metadata": {},
     "output_type": "execute_result"
    }
   ],
   "source": [
    "os.getcwd()"
   ]
  },
  {
   "cell_type": "code",
   "execution_count": 8,
   "metadata": {
    "scrolled": false
   },
   "outputs": [],
   "source": [
    "import zipfile"
   ]
  },
  {
   "cell_type": "code",
   "execution_count": 11,
   "metadata": {},
   "outputs": [],
   "source": [
    "example = zipfile.ZipFile('hello.zip')"
   ]
  },
  {
   "cell_type": "code",
   "execution_count": 12,
   "metadata": {},
   "outputs": [
    {
     "data": {
      "text/plain": [
       "['ΘçìΘ╗₧/',\n",
       " 'ΘçìΘ╗₧/Panel_StandardMeasurements_V3_Cindy.xlsx',\n",
       " '__MACOSX/',\n",
       " '__MACOSX/ΘçìΘ╗₧/',\n",
       " '__MACOSX/ΘçìΘ╗₧/._Panel_StandardMeasurements_V3_Cindy.xlsx',\n",
       " 'ΘçìΘ╗₧/05_CEC function introduction_181019.pptx',\n",
       " '__MACOSX/ΘçìΘ╗₧/._05_CEC function introduction_181019.pptx',\n",
       " 'ΘçìΘ╗₧/.DS_Store',\n",
       " '__MACOSX/ΘçìΘ╗₧/._.DS_Store',\n",
       " 'ΘçìΘ╗₧/Bug Summary_ΦÇüσòÅΘíî.xlsx',\n",
       " '__MACOSX/ΘçìΘ╗₧/._Bug Summary_ΦÇüσòÅΘíî.xlsx',\n",
       " 'ΘçìΘ╗₧/equipment.txt',\n",
       " '__MACOSX/ΘçìΘ╗₧/._equipment.txt',\n",
       " 'ΘçìΘ╗₧/Issue List.xlsx',\n",
       " '__MACOSX/ΘçìΘ╗₧/._Issue List.xlsx',\n",
       " 'ΘçìΘ╗₧/DevTek RF scan and capture system.docx',\n",
       " '__MACOSX/ΘçìΘ╗₧/._DevTek RF scan and capture system.docx',\n",
       " 'ΘçìΘ╗₧/NS-24DF310NA19_EPA 7_0 and FTC Data.xlsx',\n",
       " '__MACOSX/ΘçìΘ╗₧/._NS-24DF310NA19_EPA 7_0 and FTC Data.xlsx',\n",
       " 'ΘçìΘ╗₧/ATSC-NTSC.txt',\n",
       " '__MACOSX/ΘçìΘ╗₧/._ATSC-NTSC.txt',\n",
       " 'ΘçìΘ╗₧/Insignia_ImageCenter_Overscan_AspectRatio_V3.1.xls',\n",
       " '__MACOSX/ΘçìΘ╗₧/._Insignia_ImageCenter_Overscan_AspectRatio_V3.1.xls',\n",
       " 'ΘçìΘ╗₧/Toshiba TVσÆîInsigniaσ╖«τò░.txt',\n",
       " '__MACOSX/ΘçìΘ╗₧/._Toshiba TVσÆîInsigniaσ╖«τò░.txt',\n",
       " 'ΘçìΘ╗₧/24_EDID_OLD.TXT',\n",
       " '__MACOSX/ΘçìΘ╗₧/._24_EDID_OLD.TXT',\n",
       " 'ΘçìΘ╗₧/τ¡åΘ¢╗σ»åτó╝.txt',\n",
       " '__MACOSX/ΘçìΘ╗₧/._τ¡åΘ¢╗σ»åτó╝.txt',\n",
       " 'ΘçìΘ╗₧/Tuner sesitivityµ╕¼Φ⌐ªµû╣σ╝Å.txt',\n",
       " '__MACOSX/ΘçìΘ╗₧/._Tuner sesitivityµ╕¼Φ⌐ªµû╣σ╝Å.txt',\n",
       " 'ΘçìΘ╗₧/µòÖσ¡╕_HDMI AV Sync Test Result v3.2.xlsx',\n",
       " '__MACOSX/ΘçìΘ╗₧/._µòÖσ¡╕_HDMI AV Sync Test Result v3.2.xlsx',\n",
       " '__MACOSX/._ΘçìΘ╗₧']"
      ]
     },
     "execution_count": 12,
     "metadata": {},
     "output_type": "execute_result"
    }
   ],
   "source": [
    "example.namelist()"
   ]
  },
  {
   "cell_type": "code",
   "execution_count": 16,
   "metadata": {},
   "outputs": [],
   "source": [
    "info_1 = example.getinfo('__MACOSX/ΘçìΘ╗₧/._Panel_StandardMeasurements_V3_Cindy.xlsx')"
   ]
  },
  {
   "cell_type": "code",
   "execution_count": 17,
   "metadata": {},
   "outputs": [
    {
     "data": {
      "text/plain": [
       "268"
      ]
     },
     "execution_count": 17,
     "metadata": {},
     "output_type": "execute_result"
    }
   ],
   "source": [
    "info_1.file_size"
   ]
  },
  {
   "cell_type": "code",
   "execution_count": 19,
   "metadata": {},
   "outputs": [],
   "source": [
    "example.close()"
   ]
  }
 ],
 "metadata": {
  "kernelspec": {
   "display_name": "Python 3",
   "language": "python",
   "name": "python3"
  },
  "language_info": {
   "codemirror_mode": {
    "name": "ipython",
    "version": 3
   },
   "file_extension": ".py",
   "mimetype": "text/x-python",
   "name": "python",
   "nbconvert_exporter": "python",
   "pygments_lexer": "ipython3",
   "version": "3.7.3"
  }
 },
 "nbformat": 4,
 "nbformat_minor": 2
}
