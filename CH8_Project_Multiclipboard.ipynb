{
 "cells": [
  {
   "cell_type": "markdown",
   "metadata": {},
   "source": [
    "## 創建多重剪貼簿\n",
    "\n",
    "類似記事本儲存帳密的概念"
   ]
  },
  {
   "cell_type": "markdown",
   "metadata": {},
   "source": [
    "Say you have the boring task of filling out many forms in a web page or software with several text fields. The clipboard saves you from typing the same text over and over again. But only one thing can be on the clipboard at a time. If you have several different pieces of text that you need to copy and paste, you have to keep highlighting and copying the same few things over and over again.\n",
    "\n",
    "You can write a Python program to keep track of multiple pieces of text. This “multiclipboard” will be named mcb.pyw (since “mcb” is shorter to type than “multiclipboard”). <font color=green>The .pyw extension means that Python won’t show a Terminal window when it runs this program. (See Appendix B for more details.)</font>\n",
    "\n",
    "The program will save each piece of clipboard text under a keyword. For example, when you run py mcb.pyw save spam, the current contents of the clipboard will be saved with the keyword spam. This text can later be loaded to the clipboard again by running py mcb.pyw spam. And if the user forgets what keywords they have, they can run py mcb.pyw list to copy a list of all keywords to the clipboard.\n",
    "\n",
    "Here’s what the program does:\n",
    "* The command line argument for the keyword is checked.\n",
    "* If the argument is save, then the clipboard contents are saved to the keyword.\n",
    "* If the argument is list, then all the keywords are copied to the clipboard.\n",
    "* Otherwise, the text for the keyword is copied to the clipboard.\n",
    "* This means the code will need to do the following:\n",
    "* Read the command line arguments from sys.argv.\n",
    "* Read and write to the clipboard.\n",
    "* Save and load to a shelf file.\n",
    "\n",
    "If you use Windows, you can easily run this script from the Run... window by creating a batch file named mcb.bat with the following content:\n",
    "\n",
    " `@pyw.exe C:\\Python34\\mcb.pyw %*`"
   ]
  },
  {
   "cell_type": "code",
   "execution_count": 7,
   "metadata": {},
   "outputs": [],
   "source": [
    "#! /usr/bin/env python3\n",
    "# mcb.pyw - Saves and loads pieces of text to the clipboard.\n",
    "# Usage: py.exe mcb.pyw save <keyword> - Saves clipboard with keyword, and saves into mcb.pyw.\n",
    "# py.exe mcb.pyw <keyword> - Loads keyword to clipboard.\n",
    "# py.exe mcb.pyw list - Loads all keywords to clipboard.\n",
    "import shelve, pyperclip, sys, os"
   ]
  },
  {
   "cell_type": "code",
   "execution_count": 26,
   "metadata": {},
   "outputs": [],
   "source": [
    "if not os.path.exists('/Users/paternhong/Desktop/ML100/1_Automate_the_Boring_Stuff_with_Python' \\\n",
    "                      + '/CH8_Project_Multiclipboard'):\n",
    "    os.makedirs('/Users/paternhong/Desktop/ML100/1_Automate_the_Boring_Stuff_with_Python' \\\n",
    "                      + '/CH8_Project_Multiclipboard')\n",
    "\n",
    "# 創建or打開多重剪貼簿mcbShelf\n",
    "mcbShelf = shelve.open('/Users/paternhong/Desktop/ML100/1_Automate_the_Boring_Stuff_with_Python' \\\n",
    "                      + '/CH8_Project_Multiclipboard/mcb')\n",
    "# 先以list形式弄出所有key\n",
    "keys_list = list(mcbShelf.keys())\n",
    "'''\n",
    "把OS剪貼簿內容以關鍵字的方式儲存到 mcbShelf 中，此時需判斷是否有參數：\n",
    "引數1: save\n",
    "引數2: 作為OS剪貼簿內容的key，儲存到 mcbShelf\n",
    "'''\n",
    "if len(sys.argv) == 3:\n",
    "    # 儲存\n",
    "    if sys.argv[1].lower() == 'save':\n",
    "        if sys.argv[2].lower() == 'save' or sys.argv[2].lower() == 'list':\n",
    "            print('Illegal key setup value: {}'.format(sys.argv[2]))\n",
    "        else:\n",
    "            # shelve用類似字典的方式儲存資訊，把'剪貼簿的內容作為值'、'引數2做為對應 key'寫入mcb\n",
    "            mcbShelf[sys.argv[2]] = pyperclip.paste()\n",
    "    # 刪除   \n",
    "    elif sys.argv[1].lower() == 'delete':\n",
    "        if sys.argv[2] not in keys_list:\n",
    "            print('Key: {} is not in the Clipboard!'.format(sys.argv[1]))\n",
    "        else:\n",
    "            del mcbShelf[sys.argv[2]]\n",
    "\n",
    "# 從 mcbShelf 中，讀取“關鍵字(Key)的內容”存到剪貼簿，以便使用\n",
    "elif len(sys.argv) == 2:\n",
    "    if sys.argv[1].lower() == 'list':\n",
    "        pyperclip.copy(str(keys_list))\n",
    "    elif sys.argv[1].lower() == 'save':\n",
    "        print(('Illegal key: {}'.format(sys.argv[1])))\n",
    "    elif sys.argv[1] == 'delete':\n",
    "        for i in keys_list:\n",
    "            del mcbShelf[i]\n",
    "    elif sys.argv[1] not in keys_list:\n",
    "        print('Key: {} is not in the Clipboard!'.format(sys.argv[1]))\n",
    "    else:\n",
    "        pyperclip.copy(mcbShelf[sys.argv[1]])\n",
    "        \n",
    "    \n",
    "mcbShelf.close()  \n",
    "    "
   ]
  },
  {
   "cell_type": "code",
   "execution_count": 25,
   "metadata": {},
   "outputs": [
    {
     "name": "stdout",
     "output_type": "stream",
     "text": [
      "[KeysView(<shelve.DbfilenameShelf object at 0x10a92f390>)]\n"
     ]
    }
   ],
   "source": []
  }
 ],
 "metadata": {
  "kernelspec": {
   "display_name": "Python 3",
   "language": "python",
   "name": "python3"
  },
  "language_info": {
   "codemirror_mode": {
    "name": "ipython",
    "version": 3
   },
   "file_extension": ".py",
   "mimetype": "text/x-python",
   "name": "python",
   "nbconvert_exporter": "python",
   "pygments_lexer": "ipython3",
   "version": "3.7.3"
  }
 },
 "nbformat": 4,
 "nbformat_minor": 2
}
