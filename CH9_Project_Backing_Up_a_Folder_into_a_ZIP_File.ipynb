{
 "cells": [
  {
   "cell_type": "markdown",
   "metadata": {},
   "source": [
    "Say you’re working on a project whose files you keep in a folder named C:\\AlsPythonBook. You’re worried about losing your work, so you’d like to create ZIP file “snapshots” of the entire folder. You’d like to keep different versions, so you want the ZIP file’s filename to increment each time it is made; for example, AlsPythonBook_1.zip, AlsPythonBook_2.zip, AlsPythonBook_3.zip, and so on. You could do this by hand, but it is rather annoying, and you might accidentally misnumber the ZIP files’ names. It would be much simpler to run a program that does this boring task for you.\n",
    "\n",
    "For this project, open a new file editor window and save it as backupToZip.py."
   ]
  },
  {
   "cell_type": "code",
   "execution_count": 5,
   "metadata": {},
   "outputs": [],
   "source": [
    "import os, zipfile"
   ]
  },
  {
   "cell_type": "code",
   "execution_count": 6,
   "metadata": {},
   "outputs": [],
   "source": [
    "#! usr/bin/env python3\n",
    "# backupToZip.py - Copies an entire folder and its contents into\n",
    "# a ZIP file whose filename increments.\n",
    "def  backToZip(folder):\n",
    "    # Backup the entire contents of \"folder\" into a ZIP file.\n",
    "    folder = os.path.abspath(folder)\n",
    "    \n",
    "    # Figure out the filename this code should use based on\n",
    "    # What files already exist\n",
    "    number = 1\n",
    "    while True:\n",
    "        zipFilename = os.path.basename(folder) + '_' + str(number) + '.zip'\n",
    "        if not os.path.exists(zipFilename):\n",
    "            break\n",
    "        number = number + 1\n",
    "    print('Creating {} ...'.format(zipFilename))\n",
    "    backupZip = zipfile.ZipFile(zipFilename, 'w')\n",
    "    for foldername, subfolders, filenames in os.walk(folder):\n",
    "        print('Adding files in {} ...'.format(foldername))\n",
    "        # Add the current folder to the ZIP file.\n",
    "        backupZip.write(foldername)\n",
    "        # Add all the files in this folder to the ZIP file.\n",
    "        for filename in filenames:\n",
    "            newBase = os.path.basename(folder) + '_'\n",
    "            if filename.startswith(newBase) and filename.endswith('.zip'):\n",
    "                continue    # Don't backup the backup ZIP files\n",
    "            backupZip.write(os.path.join(foldername, filename))\n",
    "    backupZip.close()\n",
    "    print('Done.')    "
   ]
  },
  {
   "cell_type": "code",
   "execution_count": 7,
   "metadata": {
    "scrolled": true
   },
   "outputs": [
    {
     "data": {
      "text/plain": [
       "'/Users/paternhong/Desktop/ML100/1_Automate_the_Boring_Stuff_with_Python/CH9_Project_Backup_to_zip'"
      ]
     },
     "execution_count": 7,
     "metadata": {},
     "output_type": "execute_result"
    }
   ],
   "source": [
    "os.chdir('/Users/paternhong/Desktop/ML100/1_Automate_the_Boring_Stuff_with_Python/CH9_Project_Backup_to_zip')\n",
    "os.getcwd()"
   ]
  },
  {
   "cell_type": "code",
   "execution_count": 9,
   "metadata": {
    "scrolled": true
   },
   "outputs": [
    {
     "name": "stdout",
     "output_type": "stream",
     "text": [
      "Creating CH9_Project_Backup_to_zip_2.zip ...\n",
      "Adding files in /Users/paternhong/Desktop/ML100/1_Automate_the_Boring_Stuff_with_Python/CH9_Project_Backup_to_zip ...\n",
      "Adding files in /Users/paternhong/Desktop/ML100/1_Automate_the_Boring_Stuff_with_Python/CH9_Project_Backup_to_zip/07-04-2056 ...\n",
      "Adding files in /Users/paternhong/Desktop/ML100/1_Automate_the_Boring_Stuff_with_Python/CH9_Project_Backup_to_zip/07-04-2056/Users ...\n",
      "Adding files in /Users/paternhong/Desktop/ML100/1_Automate_the_Boring_Stuff_with_Python/CH9_Project_Backup_to_zip/07-04-2056/Users/paternhong ...\n",
      "Adding files in /Users/paternhong/Desktop/ML100/1_Automate_the_Boring_Stuff_with_Python/CH9_Project_Backup_to_zip/07-04-2056/Users/paternhong/Desktop ...\n",
      "Adding files in /Users/paternhong/Desktop/ML100/1_Automate_the_Boring_Stuff_with_Python/CH9_Project_Backup_to_zip/07-04-2056/Users/paternhong/Desktop/ML100 ...\n",
      "Adding files in /Users/paternhong/Desktop/ML100/1_Automate_the_Boring_Stuff_with_Python/CH9_Project_Backup_to_zip/07-04-2056/Users/paternhong/Desktop/ML100/1_Automate_the_Boring_Stuff_with_Python ...\n",
      "Adding files in /Users/paternhong/Desktop/ML100/1_Automate_the_Boring_Stuff_with_Python/CH9_Project_Backup_to_zip/07-04-2056/Users/paternhong/Desktop/ML100/1_Automate_the_Boring_Stuff_with_Python/CH9_Project_Backup_to_zip ...\n",
      "Adding files in /Users/paternhong/Desktop/ML100/1_Automate_the_Boring_Stuff_with_Python/CH9_Project_Backup_to_zip/07-04-2056/Users/paternhong/Desktop/ML100/1_Automate_the_Boring_Stuff_with_Python/CH9_Project_Backup_to_zip/07-04-2056 ...\n",
      "Adding files in /Users/paternhong/Desktop/ML100/1_Automate_the_Boring_Stuff_with_Python/CH9_Project_Backup_to_zip/07-04-2056/Users/paternhong/Desktop/ML100/1_Automate_the_Boring_Stuff_with_Python/CH9_Project_Backup_to_zip/07-04-2056/hello ...\n",
      "Adding files in /Users/paternhong/Desktop/ML100/1_Automate_the_Boring_Stuff_with_Python/CH9_Project_Backup_to_zip/07-04-2056/hello ...\n",
      "Done.\n"
     ]
    }
   ],
   "source": [
    "backToZip('/Users/paternhong/Desktop/ML100/1_Automate_the_Boring_Stuff_with_Python/CH9_Project_Backup_to_zip')"
   ]
  },
  {
   "cell_type": "code",
   "execution_count": 17,
   "metadata": {},
   "outputs": [],
   "source": [
    "# 以下方法較不會有太多的資料夾產生\n",
    "\n",
    "def  backToZip2(folder):\n",
    "    os.chdir(folder)\n",
    "    # Backup the entire contents of \"folder\" into a ZIP file.\n",
    "    \n",
    "    # Figure out the filename this code should use based on\n",
    "    # What files already exist\n",
    "    number = 1\n",
    "    while True:\n",
    "        zipFilename = os.path.basename(folder) + '_' + str(number) + '.zip'\n",
    "        if not os.path.exists(zipFilename):\n",
    "            break\n",
    "        number = number + 1\n",
    "    print('Creating {} ...'.format(zipFilename))\n",
    "    backupZip = zipfile.ZipFile(zipFilename, 'w')\n",
    "    for foldername, subfolders, filenames in os.walk('.'):\n",
    "        print('Adding files in {} ...'.format(foldername))\n",
    "        # Add the current folder to the ZIP file.\n",
    "        backupZip.write(foldername)\n",
    "        # Add all the files in this folder to the ZIP file.\n",
    "        for filename in filenames:\n",
    "            newBase = os.path.basename(folder) + '_'\n",
    "            if filename.startswith(newBase) and filename.endswith('.zip'):\n",
    "                continue    # Don't backup the backup ZIP files\n",
    "            backupZip.write(os.path.join(foldername, filename))\n",
    "    backupZip.close()\n",
    "    print('Done.')    "
   ]
  },
  {
   "cell_type": "code",
   "execution_count": 18,
   "metadata": {},
   "outputs": [
    {
     "name": "stdout",
     "output_type": "stream",
     "text": [
      "Creating CH9_Project_Backup_to_zip_1.zip ...\n",
      "Adding files in . ...\n",
      "Adding files in ./07-04-2056 ...\n",
      "Adding files in ./07-04-2056/hello ...\n",
      "Done.\n"
     ]
    }
   ],
   "source": [
    "backToZip2('/Users/paternhong/Desktop/ML100/1_Automate_the_Boring_Stuff_with_Python/CH9_Project_Backup_to_zip')"
   ]
  },
  {
   "cell_type": "markdown",
   "metadata": {},
   "source": [
    "## 兩者差異\n",
    "```python\n",
    ">>> os.chdir('/Users/paternhong/Desktop/ML100/1_Automate_the_Boring_Stuff_with_Python/CH9_Project_Backup_to_zip/07-04-2056')\n",
    "\n",
    ">>> abs_link = os.walk('/Users/paternhong/Desktop/ML100/1_Automate_the_Boring_Stuff_with_Python/CH9_Project_Backup_to_zip/07-04-2056')\n",
    ">>> cur_link = os.walk('.')\n",
    "\n",
    ">>> a1 = list(abs_link)\n",
    ">>> a2 = list(cur_link)\n",
    "\n",
    ">>> a1\n",
    "[('/Users/paternhong/Desktop/ML100/1_Automate_the_Boring_Stuff_with_Python/CH9_Project_Backup_to_zip/07-04-2056', ['hello'], ['.DS_Store', 'free.txt']), ('/Users/paternhong/Desktop/ML100/1_Automate_the_Boring_Stuff_with_Python/CH9_Project_Backup_to_zip/07-04-2056/hello', [], ['.DS_Store', 'free 2.txt', 'free.txt'])]\n",
    ">>> a2\n",
    "[('.', ['hello'], ['.DS_Store', 'free.txt']), ('./hello', [], ['.DS_Store', 'free 2.txt', 'free.txt'])]\n",
    "```"
   ]
  },
  {
   "cell_type": "code",
   "execution_count": null,
   "metadata": {},
   "outputs": [],
   "source": []
  }
 ],
 "metadata": {
  "kernelspec": {
   "display_name": "Python 3",
   "language": "python",
   "name": "python3"
  },
  "language_info": {
   "codemirror_mode": {
    "name": "ipython",
    "version": 3
   },
   "file_extension": ".py",
   "mimetype": "text/x-python",
   "name": "python",
   "nbconvert_exporter": "python",
   "pygments_lexer": "ipython3",
   "version": "3.7.3"
  }
 },
 "nbformat": 4,
 "nbformat_minor": 2
}
