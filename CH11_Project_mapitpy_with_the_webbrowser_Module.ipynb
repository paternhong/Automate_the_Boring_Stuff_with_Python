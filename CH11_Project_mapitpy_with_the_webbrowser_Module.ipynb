{
 "cells": [
  {
   "cell_type": "markdown",
   "metadata": {},
   "source": [
    "The webbrowser module’s open() function can launch a new browser to a specified URL. Enter the following into the interactive shell:\n",
    "```\n",
    ">>> import webbrowser\n",
    ">>> webbrowser.open('http://inventwithpython.com/')\n",
    "```\n",
    "A web browser tab will open to the URL http://inventwithpython.com/. This is about the only thing the webbrowser module can do. Even so, the open() function does make some interesting things possible. For example, it’s tedious to copy a street address to the clipboard and bring up a map of it on Google Maps. You could take a few steps out of this task by writing a simple script to automatically launch the map in your browser using the contents of your clipboard. This way, you only have to copy the address to a clipboard and run the script, and the map will be loaded for you.\n",
    "\n",
    "* This is what your program does:\n",
    "* Gets a street address from the command line arguments or clipboard.\n",
    "* Opens the web browser to the Google Maps page for the address.\n",
    "* This means your code will need to do the following:\n",
    "* Read the command line arguments from sys.argv.\n",
    "* Read the clipboard contents.\n",
    "* Call the webbrowser.open() function to open the web browser.\n",
    "\n",
    "Open a new file editor window and save it as mapIt.py."
   ]
  },
  {
   "cell_type": "code",
   "execution_count": null,
   "metadata": {},
   "outputs": [],
   "source": [
    "#! /usr/bin/env python3\n",
    "import webbrowser, sys, pyperclip\n",
    "from urllib import quote, unquote\n",
    "webbrowser.open('http://inventwithpython.com/')\n",
    "'''\n",
    "Input address as argument in command line: Ex.\n",
    "/Users/paternhong/Desktop/mapIt.py users mapit 870 Valencia St, San Francisco, CA 94110\n",
    "'''\n",
    "if len(sys.argv) > 1:\n",
    "    # Get address from command line.\n",
    "    add = ' '.join(sys.argv[1:])\n",
    "else:\n",
    "    # Get address from Clipboard.\n",
    "    add = pyperclip.paste()\n",
    "\n",
    "\n",
    "# add = '台中市西屯區市政南一路36號' <- 使用中文地址的範例\n",
    "# 若有中文部分要用 urllib 轉換編碼，因為網址只吃 ascii\n",
    "add_en = quote(add)\n",
    "url = 'https://www.google.com/maps/place/' + add_en\n",
    "\n",
    "'''\n",
    "若是用整句去改的話會變成 \n",
    "url_ori = 'https://www.google.com/maps/place/' + add\n",
    "url = quote(url_ori, safe=\";/?:@&=+$,\", encoding=\"utf-8\")  encoding 預設就是 utf-8 了\n",
    "'''\n",
    "print(url)\n",
    "webbrowser.open(url)"
   ]
  },
  {
   "cell_type": "code",
   "execution_count": 1,
   "metadata": {},
   "outputs": [],
   "source": []
  }
 ],
 "metadata": {
  "kernelspec": {
   "display_name": "Python 3",
   "language": "python",
   "name": "python3"
  },
  "language_info": {
   "codemirror_mode": {
    "name": "ipython",
    "version": 3
   },
   "file_extension": ".py",
   "mimetype": "text/x-python",
   "name": "python",
   "nbconvert_exporter": "python",
   "pygments_lexer": "ipython3",
   "version": "3.7.3"
  }
 },
 "nbformat": 4,
 "nbformat_minor": 2
}
