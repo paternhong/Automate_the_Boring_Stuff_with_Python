{
 "cells": [
  {
   "cell_type": "markdown",
   "metadata": {},
   "source": [
    "Say you have a list of lists where each value in the inner lists is a one-character string, like this:\n",
    "\n",
    " grid = [['.', '.', '.', '.', '.', '.'],  \n",
    "        ['.', 'O', 'O', '.', '.', '.'],  \n",
    "        ['O', 'O', 'O', 'O', '.', '.'],  \n",
    "        ['O', 'O', 'O', 'O', 'O', '.'],  \n",
    "        ['.', 'O', 'O', 'O', 'O', 'O'],  \n",
    "        ['O', 'O', 'O', 'O', 'O', '.'],  \n",
    "        ['O', 'O', 'O', 'O', '.', '.'],  \n",
    "        ['.', 'O', 'O', '.', '.', '.'],  \n",
    "        ['.', '.', '.', '.', '.', '.']]  \n",
    "You can think of grid[x][y] as being the character at the x- and y-coordinates of a “picture” drawn with text characters. The (0, 0) origin will be in the upper-left corner, the x-coordinates increase going right, and the y-coordinates increase going down.\n",
    "\n",
    "Copy the previous grid value, and write code that uses it to print the image.\n",
    "\n",
    " ..OO.OO..  \n",
    ".OOOOOOO.  \n",
    ".OOOOOOO.  \n",
    "..OOOOO..  \n",
    "...OOO...  \n",
    "....O...."
   ]
  },
  {
   "cell_type": "markdown",
   "metadata": {},
   "source": [
    "Hint: You will need to use a loop in a loop in order to print grid[0][0], then grid[1][0], then grid[2][0], and so on, up to grid[8][0]. This will finish the first row, so then print a newline. Then your program should print grid[0][1], then grid[1][1], then grid[2][1], and so on. The last thing your program will print is grid[8][5].\n",
    "\n",
    "Also, remember to pass the end keyword argument to print() if you don’t want a newline printed automatically after each print() call."
   ]
  },
  {
   "cell_type": "code",
   "execution_count": 3,
   "metadata": {},
   "outputs": [],
   "source": [
    "grid = [['.', '.', '.', '.', '.', '.'],\n",
    "        ['.', 'O', 'O', '.', '.', '.'],\n",
    "        ['O', 'O', 'O', 'O', '.', '.'],\n",
    "        ['O', 'O', 'O', 'O', 'O', '.'],\n",
    "        ['.', 'O', 'O', 'O', 'O', 'O'],\n",
    "        ['O', 'O', 'O', 'O', 'O', '.'],\n",
    "        ['O', 'O', 'O', 'O', '.', '.'],\n",
    "        ['.', 'O', 'O', '.', '.', '.'],\n",
    "        ['.', '.', '.', '.', '.', '.']]"
   ]
  },
  {
   "cell_type": "markdown",
   "metadata": {},
   "source": [
    "### method 1"
   ]
  },
  {
   "cell_type": "code",
   "execution_count": 4,
   "metadata": {},
   "outputs": [
    {
     "data": {
      "text/plain": [
       "[['.', '.', 'O', 'O', '.', 'O', 'O', '.', '.'],\n",
       " ['.', 'O', 'O', 'O', 'O', 'O', 'O', 'O', '.'],\n",
       " ['.', 'O', 'O', 'O', 'O', 'O', 'O', 'O', '.'],\n",
       " ['.', '.', 'O', 'O', 'O', 'O', 'O', '.', '.'],\n",
       " ['.', '.', '.', 'O', 'O', 'O', '.', '.', '.'],\n",
       " ['.', '.', '.', '.', 'O', '.', '.', '.', '.']]"
      ]
     },
     "execution_count": 4,
     "metadata": {},
     "output_type": "execute_result"
    }
   ],
   "source": [
    "ans_list = [[0] * len(grid) for i in range(len(grid[0]))]  # 不是方陣，因此要轉置\n",
    "for i in range(len(grid)):\n",
    "    for j in range( len(grid[0])):\n",
    "                   ans_list[j][i] = grid[i][j]\n",
    "ans_list"
   ]
  },
  {
   "cell_type": "code",
   "execution_count": 5,
   "metadata": {
    "scrolled": true
   },
   "outputs": [
    {
     "name": "stdout",
     "output_type": "stream",
     "text": [
      "..OO.OO..\n",
      ".OOOOOOO.\n",
      ".OOOOOOO.\n",
      "..OOOOO..\n",
      "...OOO...\n",
      "....O....\n"
     ]
    }
   ],
   "source": [
    "for i in range(len(ans_list)):\n",
    "    for j in range(len(ans_list[0])):\n",
    "        print(ans_list[i][j], end='')\n",
    "    print() # 用來換行"
   ]
  },
  {
   "cell_type": "markdown",
   "metadata": {},
   "source": [
    "## method 2"
   ]
  },
  {
   "cell_type": "code",
   "execution_count": 6,
   "metadata": {},
   "outputs": [
    {
     "name": "stdout",
     "output_type": "stream",
     "text": [
      "..OO.OO..\n",
      ".OOOOOOO.\n",
      ".OOOOOOO.\n",
      "..OOOOO..\n",
      "...OOO...\n",
      "....O....\n"
     ]
    }
   ],
   "source": [
    "for i in range(len(grid[0])):\n",
    "    for j in range( len(grid)):\n",
    "        print(grid[j][i], end='')\n",
    "    print()"
   ]
  },
  {
   "cell_type": "markdown",
   "metadata": {},
   "source": [
    "## method 3"
   ]
  },
  {
   "cell_type": "code",
   "execution_count": 33,
   "metadata": {},
   "outputs": [],
   "source": [
    "ans_list = [[0] * len(grid) for i in range(len(grid[0]))]  # 不是方陣，因此要轉置\n",
    "for i in range(len(grid)):\n",
    "    for j in range( len(grid[0])):\n",
    "                   ans_list[j][i] = grid[i][j]"
   ]
  },
  {
   "cell_type": "code",
   "execution_count": 34,
   "metadata": {},
   "outputs": [
    {
     "name": "stdout",
     "output_type": "stream",
     "text": [
      "..OO.OO..\n",
      ".OOOOOOO.\n",
      ".OOOOOOO.\n",
      "..OOOOO..\n",
      "...OOO...\n",
      "....O....\n"
     ]
    }
   ],
   "source": [
    "for i in ans_list:\n",
    "    print(''.join(i))"
   ]
  },
  {
   "cell_type": "code",
   "execution_count": null,
   "metadata": {},
   "outputs": [],
   "source": []
  }
 ],
 "metadata": {
  "kernelspec": {
   "display_name": "Python 3",
   "language": "python",
   "name": "python3"
  },
  "language_info": {
   "codemirror_mode": {
    "name": "ipython",
    "version": 3
   },
   "file_extension": ".py",
   "mimetype": "text/x-python",
   "name": "python",
   "nbconvert_exporter": "python",
   "pygments_lexer": "ipython3",
   "version": "3.7.3"
  }
 },
 "nbformat": 4,
 "nbformat_minor": 2
}
